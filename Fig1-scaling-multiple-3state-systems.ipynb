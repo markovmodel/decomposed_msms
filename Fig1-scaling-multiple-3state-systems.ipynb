{
 "cells": [
  {
   "cell_type": "code",
   "execution_count": 1,
   "metadata": {},
   "outputs": [],
   "source": [
    "import numpy as np\n",
    "\n",
    "import matplotlib.pyplot as plt\n",
    "import msmtools\n",
    "from tqdm.notebook import tqdm\n",
    "\n",
    "import itertools\n",
    "from pyemma.util.statistics import confidence_interval"
   ]
  },
  {
   "cell_type": "code",
   "execution_count": 2,
   "metadata": {},
   "outputs": [],
   "source": [
    "def transition_matrix_3states(p, n_subsystems):\n",
    "    \"\"\"\n",
    "    compiles a transition matrix of n independent 3 state systems.\n",
    "    :param p: float, 0 <= p <= 1, transition probability to switch state\n",
    "    :param n_subsystems: int, number of sub-systems\n",
    "    :return: np.ndarray; reversible transition probability matrix\n",
    "    \"\"\"\n",
    "    T_ = np.array([[(1-p), p/2, p/2],\n",
    "                  [p/2, (1-p), p/2],\n",
    "                  [p/2, p/2, (1-p)]])\n",
    "    \n",
    "    assert n_subsystems >= 2\n",
    "    \n",
    "    T = T_\n",
    "    for _ in range(n_subsystems-1):\n",
    "        T = np.kron(T_, T)\n",
    "       \n",
    "    assert msmtools.analysis.is_tmatrix(T)\n",
    "    assert msmtools.analysis.is_reversible(T)\n",
    "    return T"
   ]
  },
  {
   "cell_type": "code",
   "execution_count": 3,
   "metadata": {},
   "outputs": [],
   "source": [
    "trials = 30\n",
    "N = int(1e5)\n",
    "eps = 0.1\n",
    "n_systems = np.arange(2, 7)"
   ]
  },
  {
   "cell_type": "code",
   "execution_count": 4,
   "metadata": {
    "scrolled": true
   },
   "outputs": [
    {
     "data": {
      "application/vnd.jupyter.widget-view+json": {
       "model_id": "b9d86facf2204ca6a3b3042084c28fc1",
       "version_major": 2,
       "version_minor": 0
      },
      "text/plain": [
       "  0%|          | 0/30 [00:00<?, ?it/s]"
      ]
     },
     "metadata": {},
     "output_type": "display_data"
    }
   ],
   "source": [
    "sampled_independently = np.zeros((len(n_systems), trials), dtype=int)\n",
    "sampled_combinatorics = np.zeros((len(n_systems), trials), dtype=int)\n",
    "sampled_pairwise = np.zeros((len(n_systems), trials), dtype=int)\n",
    "\n",
    "for _trial in tqdm(range(trials)):\n",
    "    for num_subsys_n, num_subsys in enumerate(n_systems):\n",
    "        T = transition_matrix_3states(eps, num_subsys)\n",
    "        traj_comb = msmtools.generation.generate_traj(T, N)\n",
    "        \n",
    "        independent_trajs = list(np.unravel_index(traj_comb, tuple((3 for _ in range(num_subsys)))))\n",
    "        \n",
    "        # independent reversible sampling\n",
    "        for fin_n, fin in enumerate(range(5, N, 5)):\n",
    "            have_sampled_both_independently = True\n",
    "            for n, t in enumerate(independent_trajs):\n",
    "                c = msmtools.estimation.cmatrix(t[:fin], 1, sparse_return=False, nstates=3)\n",
    "\n",
    "                if 0 in c.sum(axis=1):\n",
    "                    have_sampled_both_independently = False\n",
    "                    break\n",
    "\n",
    "                T = msmtools.estimation.transition_matrix(c)\n",
    "                have_sampled_both_independently *= msmtools.analysis.is_connected(T)\n",
    "            if have_sampled_both_independently:\n",
    "                sampled_independently[num_subsys_n, _trial] = fin\n",
    "                break\n",
    "\n",
    "        # all combinatorial state reversible sampling\n",
    "        for fin_n, fin in enumerate(range(5, N, 5)):\n",
    "            have_sampled_combinatorics = True\n",
    "            c = msmtools.estimation.cmatrix(traj_comb[:fin], 1, sparse_return=False, nstates=3**num_subsys)\n",
    "            if 0 in c.sum(axis=1):\n",
    "                continue\n",
    "\n",
    "            T = msmtools.estimation.transition_matrix(c)\n",
    "            if msmtools.analysis.is_connected(T):\n",
    "                sampled_combinatorics[num_subsys_n, _trial] = fin\n",
    "                break\n",
    "                \n",
    "        # all pairwise reversible sampling\n",
    "        for fin_n, fin in enumerate(range(5, N, 5)):\n",
    "            have_sampled_pairwise = True\n",
    "            for traj_a, traj_b in itertools.combinations(independent_trajs, 2):\n",
    "                pairwise_traj_comb = np.ravel_multi_index(np.stack([traj_a, traj_b]), (3, 3))\n",
    "                \n",
    "                \n",
    "                c = msmtools.estimation.cmatrix(pairwise_traj_comb[:fin], 1, sparse_return=False, nstates=9)\n",
    "                if (0 in c.sum(axis=1)):\n",
    "                    have_sampled_pairwise = False\n",
    "                    break\n",
    "                T = msmtools.estimation.transition_matrix(c)\n",
    "\n",
    "                have_sampled_pairwise *= msmtools.analysis.is_connected(T)\n",
    "            if have_sampled_pairwise:\n",
    "                sampled_pairwise[num_subsys_n, _trial] = fin\n",
    "                break"
   ]
  },
  {
   "cell_type": "code",
   "execution_count": 6,
   "metadata": {},
   "outputs": [],
   "source": [
    "plt.matplotlib.rcParams['axes.titlesize'] = 12\n",
    "plt.matplotlib.rcParams['axes.labelsize'] = 20\n",
    "plt.matplotlib.rcParams['legend.fontsize'] = 11\n",
    "plt.matplotlib.rcParams['xtick.labelsize'] = 11\n",
    "plt.matplotlib.rcParams['ytick.labelsize'] = 11\n",
    "plt.matplotlib.rcParams['xtick.minor.pad'] = 2\n",
    "plt.matplotlib.rcParams['xtick.major.pad'] = 3\n",
    "plt.matplotlib.rcParams['ytick.minor.pad'] = 2\n",
    "plt.matplotlib.rcParams['ytick.major.pad'] = 3\n",
    "plt.matplotlib.rcParams['axes.labelpad'] = 1\n",
    "plt.matplotlib.rcParams['axes.labelsize'] = 11"
   ]
  },
  {
   "cell_type": "code",
   "execution_count": 10,
   "metadata": {},
   "outputs": [
    {
     "data": {
      "image/png": "[encoded data removed]",
      "text/plain": [
       "<Figure size 324x201.6 with 1 Axes>"
      ]
     },
     "metadata": {
      "needs_background": "light"
     },
     "output_type": "display_data"
    }
   ],
   "source": [
    "fig, ax = plt.subplots(figsize=(4.5, 2.8))\n",
    "names = ['independent models', 'full system model', 'pairwise models']\n",
    "colors = ['#80aee7ff', '#e68082ff', 'grey']\n",
    "data = [sampled_independently, sampled_combinatorics, sampled_pairwise]\n",
    "for _name, _data, _col in zip(names, data, colors):\n",
    "    ax.plot(n_systems, _data.mean(axis=1), 'o-', label=_name, color=_col)\n",
    "    l, h = confidence_interval(_data.T)\n",
    "    ax.fill_between(n_systems, l, h, alpha=.25, color=_col)\n",
    "\n",
    "\n",
    "ax.set_ylabel('# steps')\n",
    "ax.set_xlabel('# independent subsystems')\n",
    "ax.set_xticks(n_systems)\n",
    "ax.set_xlim(n_systems[0] - .1, n_systems[-1] + .1)\n",
    "\n",
    "ax.semilogy()\n",
    "ax.legend(loc='upper left', frameon=False)\n",
    "ax.set_xlim(2, 6)"
   ]
  }
 ],
 "metadata": {
  "kernelspec": {
   "display_name": "Python 3",
   "language": "python",
   "name": "python3"
  },
  "language_info": {
   "codemirror_mode": {
    "name": "ipython",
    "version": 3
   },
   "file_extension": ".py",
   "mimetype": "text/x-python",
   "name": "python",
   "nbconvert_exporter": "python",
   "pygments_lexer": "ipython3",
   "version": "3.8.8"
  }
 },
 "nbformat": 4,
 "nbformat_minor": 2
}
