{
 "cells": [
  {
   "cell_type": "code",
   "execution_count": 1,
   "metadata": {},
   "outputs": [],
   "source": [
    "import numpy as np\n",
    "from tqdm import tqdm_notebook\n",
    "from matplotlib import pyplot as plt\n",
    "import msmtools\n",
    "import scipy.linalg\n",
    "import itertools\n",
    "from scipy.integrate import odeint\n",
    "\n",
    "import matplotlib.pyplot as plt\n",
    "import networkx as nx\n",
    "\n",
    "from local import Channel, cg_transition_matrix, kchannel_params, dndt"
   ]
  },
  {
   "cell_type": "markdown",
   "metadata": {},
   "source": [
    "## Dimer system\n",
    "### system structure\n",
    "```\n",
    "          ____full system_____\n",
    "           /             \\       \n",
    "         channel 1  ~  channel 2  \n",
    "            |               |       \n",
    "(4 x gates - switch)  (4 x gates - switch)\n",
    "```\n",
    "- channels 1 and 2 are weakly coupled (cooperative coupling); if both switches are off, closed gate state is destabilized.\n",
    "\n",
    "- each gate is coupled to switch of its channel; switch switches off individual gates.\n",
    "\n",
    "- gates behave like Hodgkin-Huxley channel (details see previous notebook)\n",
    "\n",
    "### scores\n",
    "Two dependency scores are tested here: difference of transition matrix trace norms and transition matrix Frobenius norms.\n",
    "\n",
    "## System setup\n",
    "### basic channel"
   ]
  },
  {
   "cell_type": "code",
   "execution_count": 2,
   "metadata": {},
   "outputs": [],
   "source": [
    "# set-up Hodgkin-Huxley channel with same parameters as in previous example\n",
    "E_k = -75.\n",
    "g_k = 24 #mmho/cm^2\n",
    "\n",
    "V_clamp = 63\n",
    "\n",
    "dt = 0.1\n",
    "T = 15\n",
    "time = np.arange(0, T, dt)\n",
    "\n",
    "# initial condition\n",
    "n_0 = 0\n",
    "\n",
    "# Other parameters of the ODE\n",
    "params = (V_clamp,)\n",
    "\n",
    "ode_solution = odeint(dndt, n_0, time, params)\n",
    "\n",
    "msmlag = 0.0001 # in seconds\n",
    "\n",
    "alpha, beta, ss, tau = kchannel_params(V_clamp)\n",
    "c = Channel(alpha*1000, beta*1000)"
   ]
  },
  {
   "cell_type": "code",
   "execution_count": 3,
   "metadata": {},
   "outputs": [
    {
     "name": "stdout",
     "output_type": "stream",
     "text": [
      "single sub-system transition matrix:\n",
      "[[0.9483 0.0517]\n",
      " [0.0055 0.9945]]\n"
     ]
    }
   ],
   "source": [
    "# transition matrix of HH-channel\n",
    "Tm_singlet = c.transition_matrix_singlet(msmlag)\n",
    "Tm_expandedstates = np.kron(np.kron(np.kron(Tm_singlet, Tm_singlet), Tm_singlet), Tm_singlet)\n",
    "\n",
    "with np.printoptions(precision=4, suppress=True):\n",
    "    print(\"single sub-system transition matrix:\")\n",
    "    print(Tm_singlet)"
   ]
  },
  {
   "cell_type": "markdown",
   "metadata": {},
   "source": [
    "### cooperative coupling\n",
    "Modified transition matrix of HH channels for cases of two inactive deactivation switches.\n",
    "This models a comparably weak cooperative coupling as the closed state is slightly destabilized."
   ]
  },
  {
   "cell_type": "code",
   "execution_count": 4,
   "metadata": {},
   "outputs": [
    {
     "data": {
      "text/plain": [
       "True"
      ]
     },
     "execution_count": 4,
     "metadata": {},
     "output_type": "execute_result"
    }
   ],
   "source": [
    "Tm_singlet_coop = np.array([[0.8, 0.2], \n",
    "                            [0.0055, 0.9945]])\n",
    "Tm_expandedstates_coop = np.kron(np.kron(np.kron(Tm_singlet_coop, Tm_singlet_coop), Tm_singlet_coop), Tm_singlet_coop)\n",
    "msmtools.analysis.is_reversible(Tm_expandedstates_coop)"
   ]
  },
  {
   "cell_type": "code",
   "execution_count": 5,
   "metadata": {},
   "outputs": [
    {
     "data": {
      "text/plain": [
       "<matplotlib.legend.Legend at 0x7ff2507480b8>"
      ]
     },
     "execution_count": 5,
     "metadata": {},
     "output_type": "execute_result"
    },
    {
     "data": {
      "image/png": "[encoded data removed]",
      "text/plain": [
       "<Figure size 864x216 with 3 Axes>"
      ]
     },
     "metadata": {
      "needs_background": "light"
     },
     "output_type": "display_data"
    }
   ],
   "source": [
    "# compare regular HH to modified transition matrix (cooperative case)\n",
    "\n",
    "fig, ax = plt.subplots(1, 3, figsize=(12, 3))\n",
    "ax[0].imshow(Tm_expandedstates, norm=plt.matplotlib.colors.LogNorm())\n",
    "ax[1].imshow(Tm_expandedstates_coop, norm=plt.matplotlib.colors.LogNorm())\n",
    "ax[2].plot(msmtools.analysis.timescales(Tm_expandedstates), '.', label='default HH')\n",
    "ax[2].plot(msmtools.analysis.timescales(Tm_expandedstates_coop), '.', label='cooperative HH')\n",
    "ax[2].legend()\n",
    "# dynamics is faster in modified matrix"
   ]
  },
  {
   "cell_type": "markdown",
   "metadata": {},
   "source": [
    "### deactivation switch\n",
    "Matrix of switched gates, assembled by Kronecker product as gates are independent. The deactivation switch strongly destabilizes the open gate state."
   ]
  },
  {
   "cell_type": "code",
   "execution_count": 6,
   "metadata": {},
   "outputs": [
    {
     "data": {
      "text/plain": [
       "<matplotlib.image.AxesImage at 0x7ff250638128>"
      ]
     },
     "execution_count": 6,
     "metadata": {},
     "output_type": "execute_result"
    },
    {
     "data": {
      "image/png": "[encoded data removed]",
      "text/plain": [
       "<Figure size 432x288 with 1 Axes>"
      ]
     },
     "metadata": {
      "needs_background": "light"
     },
     "output_type": "display_data"
    }
   ],
   "source": [
    "inactivetmat_singlet = np.array([[0.9483, 0.0517], \n",
    "                                 [.95, .05]])\n",
    "inactivetmat_expanededstates = np.kron(np.kron(np.kron(inactivetmat_singlet, inactivetmat_singlet), inactivetmat_singlet), inactivetmat_singlet)\n",
    "plt.imshow(inactivetmat_expanededstates, norm=plt.matplotlib.colors.LogNorm())"
   ]
  },
  {
   "cell_type": "markdown",
   "metadata": {},
   "source": [
    "We assemble single channel transition matrix as a block matrix with probability switch_p to shift towards an inactive state. This matrix is only used for visualization purposes and to compare our estimates later."
   ]
  },
  {
   "cell_type": "code",
   "execution_count": 7,
   "metadata": {},
   "outputs": [
    {
     "name": "stdout",
     "output_type": "stream",
     "text": [
      "True\n"
     ]
    },
    {
     "data": {
      "text/plain": [
       "<matplotlib.image.AxesImage at 0x7ff25059e710>"
      ]
     },
     "execution_count": 7,
     "metadata": {},
     "output_type": "execute_result"
    },
    {
     "data": {
      "image/png": "[encoded data removed]",
      "text/plain": [
       "<Figure size 432x288 with 1 Axes>"
      ]
     },
     "metadata": {
      "needs_background": "light"
     },
     "output_type": "display_data"
    }
   ],
   "source": [
    "switch_p = .01\n",
    "#during switching, system stays in same microstate\n",
    "channel_tmat = np.block([[Tm_expandedstates * (1 - switch_p), switch_p * np.eye(16)],   # switch inactive -> inactive, switch inactive -> active\n",
    "                         [switch_p * np.eye(16), (1 - switch_p) * inactivetmat_expanededstates]])  # switch active -> inactive, switch active -> active\n",
    "\n",
    "print(msmtools.analysis.is_transition_matrix(channel_tmat))\n",
    "plt.imshow(channel_tmat, norm=plt.matplotlib.colors.LogNorm())"
   ]
  },
  {
   "cell_type": "markdown",
   "metadata": {},
   "source": [
    "### assemble full system transition matrix"
   ]
  },
  {
   "cell_type": "code",
   "execution_count": 8,
   "metadata": {},
   "outputs": [],
   "source": [
    "def assemble_tmat(_lambda):\n",
    "    \"\"\"\n",
    "    assembles full system as a block matrix.\n",
    "    note: the assembled full system transition matrix does not have the indices \n",
    "    of a Kronecker product but the same entries.\n",
    "    \n",
    "    :param _lambda: float in [0, 1], coupling parameter\n",
    "    \n",
    "    :return:\n",
    "    transition matrix of the full system\n",
    "    \"\"\"\n",
    "    \n",
    "    # compute linear mixture of transition matrices inactive and active (default)\n",
    "    linear_mixture_inactiveactive = _lambda * inactivetmat_expanededstates + (1 - _lambda) * Tm_expandedstates\n",
    "    assert msmtools.analysis.is_tmatrix(linear_mixture_inactiveactive)\n",
    "    \n",
    "    # define basic building blocks, each describing transition of deactivation switch (DG)\n",
    "    DG_switching = switch_p * np.eye(16)\n",
    "    DG_inact = Tm_expandedstates * (1 - switch_p)\n",
    "    DG_act = (1 - switch_p) * linear_mixture_inactiveactive\n",
    "\n",
    "    # describes cooperative state of two inactive deactivation switches\n",
    "    DG_inact_extboost = Tm_expandedstates_coop * (1 - switch_p)\n",
    "\n",
    "    # build transition matrices for dimer system for both deactivation switch transitions\n",
    "    D1G00_D2G11 = np.kron(DG_inact, DG_act)\n",
    "    D1G00_D2G10 = np.kron(DG_inact, DG_switching)\n",
    "    D1G00_D2G01 = np.kron(DG_inact, DG_switching)\n",
    "    D1G00_D2G00 = np.kron(DG_inact_extboost, DG_inact_extboost)\n",
    "    D1G11_D2G11 = np.kron(DG_act, DG_act)\n",
    "    D1G11_D2G10 = np.kron(DG_act, DG_switching)\n",
    "    D1G11_D2G01 = np.kron(DG_act, DG_switching)\n",
    "    D1G11_D2G00 = np.kron(DG_act, DG_inact)\n",
    "    D1G10_D2G11 = np.kron(DG_switching, DG_act)\n",
    "    D1G10_D2G10 = np.kron(DG_switching, DG_switching)\n",
    "    D1G10_D2G01 = np.kron(DG_switching, DG_switching)\n",
    "    D1G10_D2G00 = np.kron(DG_switching, DG_inact)\n",
    "    D1G01_D2G11 = np.kron(DG_switching, DG_act)\n",
    "    D1G01_D2G10 = np.kron(DG_switching, DG_switching)\n",
    "    D1G01_D2G01 = np.kron(DG_switching, DG_switching)\n",
    "    D1G01_D2G00 = np.kron(DG_switching, DG_inact)\n",
    "\n",
    "    # assemble into a single transition matrix\n",
    "    block = np.empty((1024, 1024))\n",
    "    for D1Gstart, D1Gend in np.vstack(np.unravel_index(np.arange(4), (2, 2))).T:\n",
    "        for D2Gstart, D2Gend in np.vstack(np.unravel_index(np.arange(4), (2, 2))).T:\n",
    "            #print(f'{D1Gstart} -> {D1Gend}, {D2Gstart} -> {D2Gend}', np.ravel_multi_index((D1Gstart, D1Gend), (2, 2)))\n",
    "            newstart = np.ravel_multi_index((D1Gstart, D2Gstart), (2, 2))\n",
    "            newend = np.ravel_multi_index((D1Gend, D2Gend), (2, 2))\n",
    "            block[256*newstart:256*(newstart+1), 256*newend:256*(newend+1)] = eval(f'D1G{D1Gstart}{D1Gend}_D2G{D2Gstart}{D2Gend}')\n",
    "            \n",
    "    assert msmtools.analysis.is_tmatrix(block)\n",
    "    return block"
   ]
  },
  {
   "cell_type": "markdown",
   "metadata": {},
   "source": [
    "## data generation\n",
    "### choose parameters\n",
    "Chosen large enough to ensure converged sampling."
   ]
  },
  {
   "cell_type": "code",
   "execution_count": 9,
   "metadata": {},
   "outputs": [],
   "source": [
    "tot_T = 1000000 # Steps\n",
    "dt = 20 # skip time steps to ensure convergence w/ limited computer memory\n",
    "\n",
    "n_independent_systems = 2 # dimer\n",
    "n_subsys_switches = 5  # number of gates + desensitization switch\n",
    "num_subsys = n_subsys_switches * n_independent_systems\n",
    "lambdas = np.linspace(0, 1, 21)  # coupling parameter space"
   ]
  },
  {
   "cell_type": "code",
   "execution_count": 10,
   "metadata": {
    "scrolled": false
   },
   "outputs": [],
   "source": [
    "# sub-system indices of channel 1 (s1) and channel 2 (s2)\n",
    "# note that due to assembly of subsystem transition matrices, \n",
    "# deactivation switch subsystems are indexed 0 and 1.\n",
    "s1, s2 = (0, 2, 3, 4, 5), (1, 6, 7, 8, 9)\n",
    "gates = (2, 3, 4, 5, 6, 7, 8, 9)\n",
    "\n",
    "def is_extra_channel_edge(n1, n2):\n",
    "    \"\"\"\n",
    "    distinguish if edge is within a channel or between two channels\n",
    "    :param n1: int, sub-system 1 index\n",
    "    :param n2: int, sub-system 2 index\n",
    "    :return: 0 if within channel, 1 if between two channels\n",
    "    \"\"\"\n",
    "    intra = (n1 in s1 and n2 in s1) or (n1 in s2 and n2 in s2)            \n",
    "    if intra:\n",
    "        return 0\n",
    "    else:\n",
    "        return 1"
   ]
  },
  {
   "cell_type": "markdown",
   "metadata": {},
   "source": [
    "### define dependency score"
   ]
  },
  {
   "cell_type": "code",
   "execution_count": 11,
   "metadata": {},
   "outputs": [],
   "source": [
    "def compute_dependency(tmat12, tmat1, tmat2, score='frobenius'):\n",
    "    \"\"\"\n",
    "    compute dependency score between two systems\n",
    "    :param tmat12: np.ndarray, transition matrix in joint space\n",
    "    :param tmat1: np.ndarray, transition matrix in subsystem 1\n",
    "    :param tmat2: np.ndarray, transition matrix in subsystem 2\n",
    "    :param score: str, optional, matrix norm. one of frobenius, tracenorm.\n",
    "    :return: float, dependency score\n",
    "    \"\"\"\n",
    "    if score == 'frobenius':\n",
    "        d = np.linalg.norm(tmat12, ord='fro')**2 - \\\n",
    "                    np.linalg.norm(tmat1, ord='fro')**2 * np.linalg.norm(tmat2, ord='fro')**2\n",
    "    elif score == 'tracenorm':\n",
    "        d = np.linalg.norm(tmat12, ord='nuc') - \\\n",
    "                    np.linalg.norm(tmat1, ord='nuc') * np.linalg.norm(tmat2, ord='nuc')\n",
    "    else:\n",
    "        raise NotImplementedError('score must be one of frobenius, tracenorm.')\n",
    "        \n",
    "    return abs(d)\n"
   ]
  },
  {
   "cell_type": "markdown",
   "metadata": {},
   "source": [
    "### generate trajectories & compute dependency for different couplings"
   ]
  },
  {
   "cell_type": "code",
   "execution_count": 12,
   "metadata": {
    "scrolled": true
   },
   "outputs": [
    {
     "data": {
      "application/vnd.jupyter.widget-view+json": {
       "model_id": "23ac0558d8f74a8cbd70d2e74e771ff2",
       "version_major": 2,
       "version_minor": 0
      },
      "text/plain": [
       "HBox(children=(IntProgress(value=0, max=21), HTML(value='')))"
      ]
     },
     "metadata": {},
     "output_type": "display_data"
    },
    {
     "name": "stdout",
     "output_type": "stream",
     "text": [
      "\n"
     ]
    }
   ],
   "source": [
    "fronorms_dict, tracenorms_dict, cols = {}, {}, {}\n",
    "\n",
    "for _lambda in tqdm_notebook(lambdas):\n",
    "    fronorms_dict[_lambda] = []\n",
    "    tracenorms_dict[_lambda] = []\n",
    "    cols[_lambda] = []\n",
    "    \n",
    "    # assemble transition matrix\n",
    "    block = assemble_tmat(_lambda)\n",
    "    # choose time step T(n tau) = T(tau)^n\n",
    "    _T = np.linalg.matrix_power(block, dt)\n",
    "    \n",
    "    # sample Markov chain, draw starting states from stationary distribution\n",
    "    full_sys_traj = msmtools.generation.generate_traj(_T, tot_T, )\n",
    "    \n",
    "    # separate into sub-system trajectories\n",
    "    independent_trajs = list(np.unravel_index(full_sys_traj, tuple((2 for _ in range(num_subsys)))))\n",
    "    \n",
    "    # compute single system transition matrices\n",
    "    dmsm_tmat_dict = dict()\n",
    "    dmsm_cmat_dict = dict()\n",
    "    for n in range(num_subsys):\n",
    "        dmsm_cmat_dict[n] = msmtools.estimation.cmatrix(independent_trajs[n], 1, sparse_return=False)\n",
    "        dmsm_tmat_dict[n] = msmtools.estimation.tmatrix(dmsm_cmat_dict[n])\n",
    "        \n",
    "    # compute pairwise transition matrices and dependency scores\n",
    "    for n1, n2 in itertools.combinations(range(num_subsys), 2):\n",
    "        dmsm_cmat_dict[(n1, n2)] = msmtools.estimation.cmatrix(np.ravel_multi_index(np.vstack(np.array(independent_trajs)[[n1, n2]]), \n",
    "                                                             tuple((2 for _ in range(2)))), \n",
    "                                        1, sparse_return=False)\n",
    "        dmsm_tmat_dict[(n1, n2)] = msmtools.estimation.tmatrix(dmsm_cmat_dict[(n1, n2)])\n",
    "        \n",
    "        # trace norm difference\n",
    "        tracen = compute_dependency(dmsm_tmat_dict[(n1, n2)], \n",
    "                                    dmsm_tmat_dict[n1], \n",
    "                                    dmsm_tmat_dict[n2], \n",
    "                                    score='tracenorm')\n",
    "\n",
    "        # frobenius norm difference\n",
    "        fron = compute_dependency(dmsm_tmat_dict[(n1, n2)], \n",
    "                                  dmsm_tmat_dict[n1], \n",
    "                                  dmsm_tmat_dict[n2], \n",
    "                                  score='frobenius')\n",
    "        \n",
    "        fronorms_dict[_lambda].append(fron)\n",
    "        tracenorms_dict[_lambda].append(tracen)\n",
    "        \n",
    "        # case decision for plotting\n",
    "        cols[_lambda].append(is_extra_channel_edge(n1, n2))"
   ]
  },
  {
   "cell_type": "markdown",
   "metadata": {},
   "source": [
    "### plot score as function of coupling"
   ]
  },
  {
   "cell_type": "code",
   "execution_count": 13,
   "metadata": {},
   "outputs": [],
   "source": [
    "# some plot properties\n",
    "_node_cols = ['#80aee7ff', '#e68082ff']\n",
    "node_cols = [_node_cols[0] if n in s1 else _node_cols[1] for n in range(num_subsys)]\n",
    "\n",
    "_c = (0., 0., 0.)\n",
    "nodesize = 35\n",
    "edge_cmap = plt.matplotlib.colors.LinearSegmentedColormap.from_list(\"uwe\", [(*_c, 0.025), (*_c, 1)])\n",
    "font = plt.matplotlib.font_manager.FontProperties(size=12)\n",
    "\n",
    "rgb_int = 200\n",
    "cmap_zero_noalpha = (rgb_int/256,rgb_int/256,rgb_int/256, 1)  # visual match between two figures (graph uses alpha)\n",
    "colormap = np.array([edge_cmap(256), cmap_zero_noalpha])\n",
    "colored_patches = [plt.matplotlib.patches.Patch(color=colormap[0], label='intra'),\n",
    "                  plt.matplotlib.patches.Patch(color=colormap[1], label='extra')]"
   ]
  },
  {
   "cell_type": "code",
   "execution_count": 14,
   "metadata": {},
   "outputs": [
    {
     "data": {
      "text/plain": [
       "<matplotlib.legend.Legend at 0x7ff24f5854a8>"
      ]
     },
     "execution_count": 14,
     "metadata": {},
     "output_type": "execute_result"
    },
    {
     "data": {
      "image/png": "[encoded data removed]",
      "text/plain": [
       "<Figure size 180x360 with 2 Axes>"
      ]
     },
     "metadata": {
      "needs_background": "light"
     },
     "output_type": "display_data"
    }
   ],
   "source": [
    "fig, ax = plt.subplots(2, 1, gridspec_kw={'hspace':.25}, figsize=(2.5, 5))\n",
    "axin = ax[1].inset_axes([0.65, 0.5, 0.3, 0.3]) # [x0, y0, width, height]\n",
    "axin.set_xlim(0.74, 0.86)\n",
    "axin.set_ylim(0.465, 0.475)\n",
    "\n",
    "for _lambda in lambdas:    \n",
    "    ax[0].scatter([_lambda for _ in range(len(tracenorms_dict[_lambda]))], \n",
    "               tracenorms_dict[_lambda], c=colormap[np.array(cols[_lambda])], marker='.')\n",
    "    \n",
    "    for _ax in [ax[1], axin]:\n",
    "        _ax.scatter([_lambda for _ in range(len(tracenorms_dict[_lambda]))], \n",
    "                   fronorms_dict[_lambda], c=colormap[np.array(cols[_lambda])], marker='.')\n",
    "\n",
    "for n_ax, _ax in enumerate(ax.flat):\n",
    "    \n",
    "    #_ax.yaxis.tick_right()\n",
    "    _ax.set_ylabel(r'$d$', fontproperties=font)\n",
    "    #_ax.get_yaxis().set_label_position('right')\n",
    "    _ax.spines['top'].set_color('none')\n",
    "    \n",
    "    if n_ax != 1:\n",
    "        _ax.spines['bottom'].set_color('none')\n",
    "        _ax.set_xticklabels([])\n",
    "        _ax.tick_params(axis='x', colors='none')\n",
    "        _ax.xaxis.set_tick_params(pad=0)\n",
    "    else:\n",
    "        _ax.spines['bottom'].set_color('grey')\n",
    "        #_ax.xaxis.set_tick_params(pad=0)\n",
    "        \n",
    "    \n",
    "    _ax.spines['left'].set_color('grey')\n",
    "    _ax.spines['right'].set_color('none')\n",
    "\n",
    "    grid = _ax.grid(True, color='k', alpha=.25, which='both', ls='-')\n",
    "\n",
    "    _ax.set_xticks([0, 0.5, 1])\n",
    "    _ax.set_xticklabels(['0', '0.5', '1'])\n",
    "\n",
    "    for _t in list(_ax.yaxis.get_ticklabels()) + list(_ax.xaxis.get_ticklabels()):\n",
    "        _t.set_font_properties(font)\n",
    "    \n",
    "    _ax.set_ylim(0, .5)\n",
    "    _ax.set_xlim(lambdas[0], lambdas[-1]+0.01)\n",
    "    \n",
    "ax[1].set_xlabel(r'coupling $\\lambda$', fontproperties=font)\n",
    "\n",
    "ax[0].set_title('trace norm', fontproperties=font)\n",
    "ax[1].set_title('frobenius norm', fontproperties=font)\n",
    "\n",
    "axin.set_xticks([])\n",
    "axin.set_yticks([])\n",
    "ax[1].indicate_inset_zoom(axin)\n",
    "\n",
    "fig.legend(loc=(.53, .6), handles=colored_patches, prop=font)"
   ]
  },
  {
   "cell_type": "markdown",
   "metadata": {},
   "source": [
    "## graph analysis\n",
    "Analyze strongest coupling case. Can we estimate the network from data?"
   ]
  },
  {
   "cell_type": "code",
   "execution_count": 15,
   "metadata": {},
   "outputs": [],
   "source": [
    "# following code works on the last defined objects in this for loop, i.e. correspond to strongest coupling\n",
    "assert _lambda == 1."
   ]
  },
  {
   "cell_type": "markdown",
   "metadata": {},
   "source": [
    "### assemble graph"
   ]
  },
  {
   "cell_type": "code",
   "execution_count": 16,
   "metadata": {},
   "outputs": [],
   "source": [
    "# compute different scores and store in a networkx graph object\n",
    "graph_fronorm = nx.Graph()\n",
    "graph_trace = nx.Graph()\n",
    "\n",
    "# for all pairs of subsystems, compute dependency scores with Frobenius and trace norm\n",
    "for n1, n2 in itertools.combinations(range(num_subsys), 2):\n",
    "    d = compute_dependency(dmsm_tmat_dict[(n1, n2)], \n",
    "                                  dmsm_tmat_dict[n1], \n",
    "                                  dmsm_tmat_dict[n2], \n",
    "                                  score='tracenorm')\n",
    "    graph_trace.add_edge(n1, n2, weight=d)\n",
    "    \n",
    "\n",
    "    d = compute_dependency(dmsm_tmat_dict[(n1, n2)], \n",
    "                                  dmsm_tmat_dict[n1], \n",
    "                                  dmsm_tmat_dict[n2], \n",
    "                                  score='frobenius')\n",
    "    graph_fronorm.add_edge(n1, n2, weight=d)"
   ]
  },
  {
   "cell_type": "markdown",
   "metadata": {},
   "source": [
    "### plot graph"
   ]
  },
  {
   "cell_type": "code",
   "execution_count": 17,
   "metadata": {},
   "outputs": [
    {
     "data": {
      "image/png": "[encoded data removed]",
      "text/plain": [
       "<Figure size 180x360 with 4 Axes>"
      ]
     },
     "metadata": {
      "needs_background": "light"
     },
     "output_type": "display_data"
    }
   ],
   "source": [
    "fig, axes = plt.subplots(2, 1, figsize=(2.5, 5), gridspec_kw={'hspace':.25})\n",
    "names = ['trace norm', 'frobenius norm']\n",
    "for n_graph, graph in enumerate([graph_trace, graph_fronorm]):\n",
    "    \n",
    "    ax = axes[n_graph]\n",
    "    # positions by Fruchterman-Reingold\n",
    "    pos_dict = nx.spring_layout(graph, k=0.75 if n_graph == 0 else 0.4, seed=40, )\n",
    "    ax.set_title(names[n_graph], fontproperties=font)\n",
    "\n",
    "    weights = np.array(list(nx.get_edge_attributes(graph, 'weight').values()))\n",
    "\n",
    "    # draw nodes representing gates (symbol o)\n",
    "    nx.draw_networkx_nodes(graph, node_shape='o', \n",
    "                           nodelist=graph.subgraph([n for n in range(num_subsys) if n in gates]).nodes,\n",
    "                           node_size=nodesize, \n",
    "                           pos=pos_dict, \n",
    "                           node_color=[node_cols[n] for n in range(num_subsys) if n in gates], \n",
    "                          ax=ax)\n",
    "    \n",
    "    # draw nodes representing deactivation switches (symbol square)\n",
    "    nx.draw_networkx_nodes(graph, node_shape='s', \n",
    "                           nodelist=graph.subgraph([n for n in range(num_subsys) if n not in gates]).nodes,\n",
    "                           node_size=nodesize, \n",
    "                           pos=pos_dict, \n",
    "                           node_color=[node_cols[n] for n in range(num_subsys) if n not in gates], \n",
    "                          ax=ax)\n",
    "    # draw all edges\n",
    "    pc = nx.draw_networkx_edges(graph, \n",
    "                     edge_color=weights, width=2.4,\n",
    "                     pos=pos_dict, node_size=nodesize,\n",
    "                     ax=ax,\n",
    "                    )\n",
    "    \n",
    "    # define colormap\n",
    "    pc.set_array(weights)\n",
    "    pc.set_cmap(edge_cmap)\n",
    "\n",
    "    cb = fig.colorbar(pc, ax=ax,\n",
    "                      aspect=25, pad=.15)\n",
    "    cb.set_label(r'$d$', fontproperties=font)\n",
    "    cbarticks = cb.ax.yaxis.get_ticklabels()\n",
    "    \n",
    "    # set font properties\n",
    "    for _t in list(cbarticks):\n",
    "        _t.set_font_properties(font)\n",
    "    ax.axis('off');\n",
    "axes[1].text(0.5, 0, r'$\\lambda = 1$', transform=axes[1].transAxes, fontproperties=font);"
   ]
  },
  {
   "cell_type": "markdown",
   "metadata": {},
   "source": [
    "## modeling a single channel independently\n",
    "\n",
    "Now that we have found the optimal partition, can we retrieve the model of one of the monomers, ignoring weak coupling between the channels?"
   ]
  },
  {
   "cell_type": "code",
   "execution_count": 18,
   "metadata": {},
   "outputs": [],
   "source": [
    "# sub-system indexing ordered to match resulting matrices\n",
    "subsystem_trajectory = np.ravel_multi_index(\n",
    "    np.vstack(np.array(independent_trajs)[[0, 5, 4, 3, 2]]), tuple((2 for _ in range(n_subsys_switches)))\n",
    ")"
   ]
  },
  {
   "cell_type": "code",
   "execution_count": 19,
   "metadata": {},
   "outputs": [],
   "source": [
    "# note that this estimate is at a lagtime dt because trajectory was generated from T^dt\n",
    "C = msmtools.estimation.cmatrix(subsystem_trajectory, 1, sparse_return=False)\n",
    "T = msmtools.estimation.tmatrix(C)"
   ]
  },
  {
   "cell_type": "markdown",
   "metadata": {},
   "source": [
    "### compare transition matrices & implied timescales"
   ]
  },
  {
   "cell_type": "code",
   "execution_count": 20,
   "metadata": {},
   "outputs": [
    {
     "data": {
      "image/png": "[encoded data removed]",
      "text/plain": [
       "<Figure size 432x288 with 2 Axes>"
      ]
     },
     "metadata": {
      "needs_background": "light"
     },
     "output_type": "display_data"
    }
   ],
   "source": [
    "fig, ax = plt.subplots(1, 2)\n",
    "ax[0].imshow(T, norm=plt.matplotlib.colors.LogNorm())\n",
    "ax[0].set_title('estimated')\n",
    "ax[1].imshow(np.linalg.matrix_power(channel_tmat, dt), norm=plt.matplotlib.colors.LogNorm())\n",
    "ax[1].set_title('reference');"
   ]
  },
  {
   "cell_type": "code",
   "execution_count": 21,
   "metadata": {},
   "outputs": [
    {
     "name": "stderr",
     "output_type": "stream",
     "text": [
      "/storage/mi/thempel/anaconda3/envs/py37_oct19/lib/python3.7/site-packages/msmtools/analysis/dense/decomposition.py:540: ImaginaryEigenValueWarning: Using eigenvalues with non-zero imaginary part\n",
      "  warnings.warn('Using eigenvalues with non-zero imaginary part', ImaginaryEigenValueWarning)\n"
     ]
    },
    {
     "data": {
      "text/plain": [
       "<matplotlib.legend.Legend at 0x7ff24ec01048>"
      ]
     },
     "execution_count": 21,
     "metadata": {},
     "output_type": "execute_result"
    },
    {
     "data": {
      "image/png": "[encoded data removed]",
      "text/plain": [
       "<Figure size 576x288 with 2 Axes>"
      ]
     },
     "metadata": {
      "needs_background": "light"
     },
     "output_type": "display_data"
    }
   ],
   "source": [
    "fig, ax = plt.subplots(1, 2, figsize=(8, 4))\n",
    "\n",
    "ax[0].plot(T.flat, np.linalg.matrix_power(channel_tmat, dt).flat, '.')\n",
    "ax[0].loglog()\n",
    "\n",
    "its_ref = msmtools.analysis.timescales(np.linalg.matrix_power(channel_tmat, dt))\n",
    "its_est = msmtools.analysis.timescales(T)\n",
    "\n",
    "ax[1].plot(its_ref, 'r.', label='reference')\n",
    "ax[1].plot(its_est, 'b.', label='estimate')\n",
    "#ax[1].semilogy()\n",
    "fig.legend()"
   ]
  },
  {
   "cell_type": "markdown",
   "metadata": {},
   "source": [
    "Spectrum is well-approximated. As it does not incoporate the weak coupling between channels, it is only an approximation."
   ]
  }
 ],
 "metadata": {
  "kernelspec": {
   "display_name": "Python 3",
   "language": "python",
   "name": "python3"
  },
  "language_info": {
   "codemirror_mode": {
    "name": "ipython",
    "version": 3
   },
   "file_extension": ".py",
   "mimetype": "text/x-python",
   "name": "python",
   "nbconvert_exporter": "python",
   "pygments_lexer": "ipython3",
   "version": "3.7.3"
  }
 },
 "nbformat": 4,
 "nbformat_minor": 2
}
