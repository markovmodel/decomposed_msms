{
 "cells": [
  {
   "cell_type": "code",
   "execution_count": 21,
   "metadata": {},
   "outputs": [],
   "source": [
    "import numpy as np\n",
    "import matplotlib.pyplot as plt\n",
    "import itertools\n",
    "from tqdm import tqdm_notebook as tqdm\n",
    "import networkx as nx\n",
    "import pyemma\n",
    "import mdtraj\n",
    "import pyemma.util.contexts\n",
    "import pickle\n",
    "from pathos.multiprocessing import Pool\n",
    "from contextlib import closing\n",
    "import seaborn as sns"
   ]
  },
  {
   "cell_type": "markdown",
   "metadata": {},
   "source": [
    "## Estimation"
   ]
  },
  {
   "cell_type": "code",
   "execution_count": 2,
   "metadata": {},
   "outputs": [],
   "source": [
    "# load data from disk\n",
    "topfile_0cal = 'hsynapto.pdb'\n",
    "trajfiles_aligned = np.loadtxt('trajfile_list.txt', dtype=str).tolist()\n",
    "\n",
    "# reference mdtraj trajectory object\n",
    "ref_0cal = mdtraj.load_pdb(topfile_0cal)"
   ]
  },
  {
   "cell_type": "code",
   "execution_count": 233,
   "metadata": {},
   "outputs": [],
   "source": [
    "first_resid = 5  # truncate n and c-terminal residues\n",
    "system_integers = np.arange(first_resid, ref_0cal.top.n_residues - first_resid)"
   ]
  },
  {
   "cell_type": "code",
   "execution_count": 236,
   "metadata": {},
   "outputs": [
    {
     "name": "stderr",
     "output_type": "stream",
     "text": [
      "<ipython-input-236-8899c88b1cea>:5: TqdmDeprecationWarning: This function will be removed in tqdm==5.0.0\n",
      "Please use `tqdm.notebook.tqdm` instead of `tqdm.tqdm_notebook`\n",
      "  for n in tqdm(system_integers):\n"
     ]
    },
    {
     "data": {
      "application/vnd.jupyter.widget-view+json": {
       "model_id": "86da288934764c6ba63004da95d9aa97",
       "version_major": 2,
       "version_minor": 0
      },
      "text/plain": [
       "  0%|          | 0/118 [00:00<?, ?it/s]"
      ]
     },
     "metadata": {},
     "output_type": "display_data"
    }
   ],
   "source": [
    "# compute feature vector for each residue and store in a dictionary\n",
    "# ATTENTION: the features should be carefully chosen, this example reproduces \n",
    "# a featurization that was previously published and might not be optimal for\n",
    "# other cases. Cf. Chignolin notebook for flexible torsion angle featurization.\n",
    "\n",
    "res_heavyatomxyzs = dict()\n",
    "\n",
    "with pyemma.util.contexts.settings(show_progress_bars=False):\n",
    "    for n in tqdm(system_integers):\n",
    "        f = pyemma.coordinates.featurizer(topfile_0cal)\n",
    "        f.add_selection(f.select(f'mass > 2 and resid {n}'))\n",
    "        res_heavyatomxyzs[n] = pyemma.coordinates.load(trajfiles_aligned, features=f)"
   ]
  },
  {
   "cell_type": "code",
   "execution_count": 237,
   "metadata": {},
   "outputs": [],
   "source": [
    "# save or load from disc to increase efficiency\n",
    "# pickle.dump(res_heavyatomxyzs, open('res_heavyatomxyz.pickle', 'wb'))\n",
    "# res_heavyatomxyzs = pickle.load(open('res_heavyatomxyz.pickle', 'rb'))"
   ]
  },
  {
   "cell_type": "code",
   "execution_count": 238,
   "metadata": {},
   "outputs": [],
   "source": [
    "# choose lag time for vamp computation (in ns)\n",
    "msmlag = 50"
   ]
  },
  {
   "cell_type": "code",
   "execution_count": 239,
   "metadata": {},
   "outputs": [],
   "source": [
    "# all pairwise combinations of residue indices\n",
    "args = list(itertools.combinations(system_integers, 2))\n",
    "\n",
    "def get_edge_vamp2(n1, n2, stride=1):\n",
    "    \"\"\"\n",
    "    Compute normalized dependency between two feature\n",
    "    vectors using the VAMP2 score.\n",
    "    \n",
    "    :params:\n",
    "    :n1: int, residue index of residue A\n",
    "    :n2: int, residue index of residue B\n",
    "    :stride: int, optional, used in covariance matrix estimation\n",
    "    \n",
    "    :returns:\n",
    "    float, dependency for this link\n",
    "    \"\"\"\n",
    "    with pyemma.util.contexts.settings(show_progress_bars=False):\n",
    "        v1 = pyemma.coordinates.vamp(feature[n1], lag=msmlag, stride=stride)\n",
    "        v2 = pyemma.coordinates.vamp(feature[n2], lag=msmlag, stride=stride)\n",
    "        v12 = pyemma.coordinates.vamp([np.hstack([t1, t2]) for t1, t2 in zip(feature[n1], feature[n2])], lag=msmlag, stride=stride)\n",
    "\n",
    "    s1 = v1.score(score_method='VAMP2')\n",
    "    s2 = v2.score(score_method='VAMP2')\n",
    "    s12 = v12.score(score_method='VAMP2')\n",
    "    \n",
    "    # note that pyemma returns the vamp score in the non-whitened space (+1)\n",
    "    # i.e. we have to subtract 1 from each computed score\n",
    "    d =  (s1 + s2 - 1 - s12) / min(s1 - 1, s2 - 1)\n",
    "        \n",
    "    return d\n",
    "\n",
    "def get_edge_vamp1(n1, n2, stride=1):\n",
    "    \"\"\"\n",
    "    Compute normalized dependency between two feature\n",
    "    vectors using the VAMP1 score.\n",
    "    \n",
    "    :params:\n",
    "    :n1: int, residue index of residue A\n",
    "    :n2: int, residue index of residue B\n",
    "    :stride: int, optional, used in covariance matrix estimation\n",
    "    \n",
    "    :returns:\n",
    "    float, dependency for this link\n",
    "    \"\"\"\n",
    "    with pyemma.util.contexts.settings(show_progress_bars=False):\n",
    "        v1 = pyemma.coordinates.vamp(feature[n1], lag=msmlag, stride=stride)\n",
    "        v2 = pyemma.coordinates.vamp(feature[n2], lag=msmlag, stride=stride)\n",
    "        v12 = pyemma.coordinates.vamp([np.hstack([t1, t2]) for t1, t2 in zip(feature[n1], feature[n2])], lag=msmlag, stride=stride)\n",
    "\n",
    "        s1 = v1.score(score_method='VAMP1')\n",
    "        s2 = v2.score(score_method='VAMP1')\n",
    "        s12 = v12.score(score_method='VAMP1')\n",
    "        \n",
    "        d =  (s1 + s2 - 1 - s12) / min(s1 - 1, s2 - 1)\n",
    "        \n",
    "    return d"
   ]
  },
  {
   "cell_type": "code",
   "execution_count": null,
   "metadata": {},
   "outputs": [],
   "source": [
    "feature = res_heavyatomxyzs"
   ]
  },
  {
   "cell_type": "code",
   "execution_count": 240,
   "metadata": {
    "scrolled": true
   },
   "outputs": [
    {
     "name": "stderr",
     "output_type": "stream",
     "text": [
      "<ipython-input-240-723c12f03652>:9: TqdmDeprecationWarning: This function will be removed in tqdm==5.0.0\n",
      "Please use `tqdm.notebook.tqdm` instead of `tqdm.tqdm_notebook`\n",
      "  pbar = tqdm(total=len(args))\n"
     ]
    },
    {
     "data": {
      "application/vnd.jupyter.widget-view+json": {
       "model_id": "44812ecaad634bea94a8078a4984402f",
       "version_major": 2,
       "version_minor": 0
      },
      "text/plain": [
       "  0%|          | 0/6903 [00:00<?, ?it/s]"
      ]
     },
     "metadata": {},
     "output_type": "display_data"
    }
   ],
   "source": [
    "# VAMP-1 graph\n",
    "# initialize networkx graph object\n",
    "graph_vamp1 = nx.Graph()\n",
    "\n",
    "\n",
    "# multiprocessing w/ progress bar\n",
    "pbar = tqdm(total=len(args))\n",
    "pool = Pool(processes=8)\n",
    "with closing(pool):\n",
    "    # compute pairwise dependency on each pair of residues, populate graph edges\n",
    "    res_async = [pool.apply_async(get_edge_vamp1, a, callback=lambda _: pbar.update(1)) for a in args]\n",
    "    [graph_vamp1.add_edge(*a, weight=x.get()) for x, a in zip(res_async, args)]\n",
    "    \n",
    "pbar.close()"
   ]
  },
  {
   "cell_type": "code",
   "execution_count": 241,
   "metadata": {},
   "outputs": [
    {
     "name": "stderr",
     "output_type": "stream",
     "text": [
      "<ipython-input-241-a0aea468303d>:6: TqdmDeprecationWarning: This function will be removed in tqdm==5.0.0\n",
      "Please use `tqdm.notebook.tqdm` instead of `tqdm.tqdm_notebook`\n",
      "  pbar = tqdm(total=len(args))\n"
     ]
    },
    {
     "data": {
      "application/vnd.jupyter.widget-view+json": {
       "model_id": "534d35eb197b493988d0e6e64a157d9b",
       "version_major": 2,
       "version_minor": 0
      },
      "text/plain": [
       "  0%|          | 0/6903 [00:00<?, ?it/s]"
      ]
     },
     "metadata": {},
     "output_type": "display_data"
    }
   ],
   "source": [
    "# VAMP-2 graph\n",
    "# initialize networkx graph object\n",
    "graph_vamp2 = nx.Graph()\n",
    "\n",
    "# multiprocessing w/ progress bar\n",
    "pbar = tqdm(total=len(args))\n",
    "pool = Pool(processes=8)\n",
    "with closing(pool):\n",
    "    # compute pairwise dependency on each pair of residues, populate graph edges\n",
    "    res_async = [pool.apply_async(get_edge_vamp2, a, callback=lambda _: pbar.update(1)) for a in args]\n",
    "    [graph_vamp2.add_edge(*a, weight=x.get()) for x, a in zip(res_async, args)]\n",
    "    \n",
    "pbar.close()"
   ]
  },
  {
   "cell_type": "code",
   "execution_count": 242,
   "metadata": {},
   "outputs": [],
   "source": [
    "# save or re-load graphs\n",
    "# pickle.dump(graph_vamp1, open('syt_graph_vamp1.pickle', 'wb'))\n",
    "# graph_vamp1 = pickle.load(open('syt_graph_vamp1.pickle', 'rb'))\n",
    "\n",
    "# pickle.dump(graph_vamp2, open('syt_graph_vamp2.pickle', 'wb'))\n",
    "# graph_vamp2 = pickle.load(open('syt_graph_vamp2.pickle', 'rb'))"
   ]
  },
  {
   "cell_type": "markdown",
   "metadata": {},
   "source": [
    "## Visualization"
   ]
  },
  {
   "cell_type": "code",
   "execution_count": 550,
   "metadata": {},
   "outputs": [],
   "source": [
    "# set node sizes and edge widths\n",
    "nodesize = 20\n",
    "edgewidth = 1\n",
    "\n",
    "# define color for edges\n",
    "# color map scale adjusted individually\n",
    "_c = (0., 0., 0.)"
   ]
  },
  {
   "cell_type": "code",
   "execution_count": 245,
   "metadata": {},
   "outputs": [],
   "source": [
    "# Fruchterman-Reingold (FR) node positioning\n",
    "# please note that FR is stochastic and results might be slightly different\n",
    "# for each execution\n",
    "\n",
    "ks = [.01, 0.012] # FR hyperparameter\n",
    "\n",
    "pos_dicts = []\n",
    "frugold_projections = []\n",
    "for n, graph in enumerate([graph_vamp1, graph_vamp2]):\n",
    "\n",
    "    # use networkx implementation of FR algorithm\n",
    "    pos_dict = nx.spring_layout(graph, k=ks[n], \n",
    "                                iterations=5000, threshold=0.00001)\n",
    "    pos_dicts.append(pos_dict)\n",
    "    frugold_projections.append(np.array([pos_dict[r] for r in system_integers]))"
   ]
  },
  {
   "cell_type": "code",
   "execution_count": 499,
   "metadata": {},
   "outputs": [],
   "source": [
    "# color definitions\n",
    "sns_pal = sns.color_palette('hls', 3)  # highlight important subunits\n",
    "sns_pal2 = sns.color_palette('bone_r', 6)  # grey palette for less important subunits\n",
    "vmd_colors = np.vstack([np.array(sns_pal), np.array(sns_pal2)])\n",
    "col_pal = ['#80aee7ff', '#e68082ff']  # for histograms"
   ]
  },
  {
   "cell_type": "code",
   "execution_count": 479,
   "metadata": {},
   "outputs": [
    {
     "data": {
      "application/vnd.jupyter.widget-view+json": {
       "model_id": "",
       "version_major": 2,
       "version_minor": 0
      },
      "text/plain": [
       "initialize kmeans++ centers:   0%|          | 0/7 [00:00<?, ?it/s]"
      ]
     },
     "metadata": {},
     "output_type": "display_data"
    },
    {
     "data": {
      "application/vnd.jupyter.widget-view+json": {
       "model_id": "",
       "version_major": 2,
       "version_minor": 0
      },
      "text/plain": [
       "kmeans iterations:   0%|          | 0/100 [00:00<?, ?it/s]"
      ]
     },
     "metadata": {},
     "output_type": "display_data"
    },
    {
     "data": {
      "application/vnd.jupyter.widget-view+json": {
       "model_id": "",
       "version_major": 2,
       "version_minor": 0
      },
      "text/plain": [
       "initialize kmeans++ centers:   0%|          | 0/7 [00:00<?, ?it/s]"
      ]
     },
     "metadata": {},
     "output_type": "display_data"
    },
    {
     "data": {
      "application/vnd.jupyter.widget-view+json": {
       "model_id": "",
       "version_major": 2,
       "version_minor": 0
      },
      "text/plain": [
       "kmeans iterations:   0%|          | 0/100 [00:00<?, ?it/s]"
      ]
     },
     "metadata": {},
     "output_type": "display_data"
    }
   ],
   "source": [
    "# cluster FR projected data with k-means\n",
    "# remember that k-means is stochastic and might produce slightly different \n",
    "# results each for each run. this step further depends on the result of\n",
    "# the FR algorithm, i.e., it might be necessary to adjust hyperparameters\n",
    "\n",
    "n_clusters = [7, 7] # number of nodes for vamp-1 / vamp-2 projections\n",
    "\n",
    "assignments = []\n",
    "cluster_objs = []\n",
    "\n",
    "for n, (k, xy) in enumerate(zip(n_clusters, frugold_projections)):\n",
    "    # cluster in projected space\n",
    "    cl = pyemma.coordinates.cluster_kmeans(xy, k=k, tolerance=1e-7, \n",
    "                                           max_iter=100)\n",
    "    cluster_objs.append(cl)\n",
    "    assignments.append(cl.dtrajs[0])"
   ]
  },
  {
   "cell_type": "code",
   "execution_count": 553,
   "metadata": {},
   "outputs": [],
   "source": [
    "# color-matching. numbers have no physical meaning\n",
    "# and are manually sorted for readability.\n",
    "# assignment from VMD visual inspection.\n",
    "\n",
    "cassignm = [np.array([6, 3, 2, 0, 4, 1, 5]),\n",
    "                  np.array([4, 3, 1, 5, 0, 6, 7])]\n",
    "\n",
    "matched_assignments = []\n",
    "for n in range(len(assignments)):\n",
    "    matched_assignments.append(cassignm[n][assignments[n]])"
   ]
  },
  {
   "cell_type": "code",
   "execution_count": 556,
   "metadata": {},
   "outputs": [],
   "source": [
    "# to quantify the differences between a) dependencies of\n",
    "# nodes in a cluster and b) dependencies between nodes of different clusters, \n",
    "# each node has to be viewed from its strongest embedding into the network. \n",
    "# \n",
    "# Example: network consisting of 3 nodes [n1, n2, n3]. If dependency scores \n",
    "# between (n1, n2) and (n2, n3) are very high, the network cannot be decomposed\n",
    "# irrespectively of how low the dependency is for (n1, n3).\n",
    "    \n",
    "# This means that the dependency between a single node n and a set of nodes C\n",
    "# should be viewed by taking the max of all edges between n and all nodes of C. \n",
    "\n",
    "intra_cluster_edge_list, inter_cluster_edge_list = [], []\n",
    "for assignments, graph, _n_clusters in zip(matched_assignments, \n",
    "                                           [graph_vamp1, graph_vamp2], \n",
    "                                          n_clusters):\n",
    "        \n",
    "    # group cluster nodes together\n",
    "    node_groups = [np.array(list(graph.nodes))[np.where(assignments == n)[0]] \\\n",
    "                   for n in np.unique(assignments)]\n",
    "\n",
    "    # extract edges within each cluster and between two clusters\n",
    "    inter_cluster_edges = []\n",
    "    intra_cluster_edges = []\n",
    "    \n",
    "    # iterate over all combinations of clusters\n",
    "    # -> extract inter-cluster edges\n",
    "    for cluster_i, cluster_j in itertools.combinations(range(_n_clusters), 2):\n",
    "        \n",
    "        _inter_cluster_edges = []\n",
    "\n",
    "        # max link between (each member of cluster i) and (all members of cluster j)\n",
    "        for node_i in node_groups[cluster_i]:\n",
    "            w_to_all_cluster_j = [graph.get_edge_data(node_i, node_j)['weight'] for \\\n",
    "                                  node_j in node_groups[cluster_j]]\n",
    "            _inter_cluster_edges.append(max(w_to_all_cluster_j))\n",
    "\n",
    "        # max link between (each member of cluster j) and (all members of cluster i)\n",
    "        for node_j in node_groups[cluster_j]:\n",
    "            w_to_all_cluster_i = [graph.get_edge_data(node_i, node_j)['weight'] for \\\n",
    "                                  node_i in node_groups[cluster_i]]\n",
    "            _inter_cluster_edges.append(max(w_to_all_cluster_i))\n",
    "        \n",
    "        inter_cluster_edges += _inter_cluster_edges\n",
    "\n",
    "    # iterate over every cluster\n",
    "    # -> extract intra-cluster edges\n",
    "    for cluster_i in range(_n_clusters):\n",
    "        \n",
    "        _intra_cluster_edges = []\n",
    "        \n",
    "        # max link within a single cluster of nodes, i.e., get max edge between node and \n",
    "        # all other members of the same cluster\n",
    "        for node_i in node_groups[cluster_i]:\n",
    "            w_to_all_in_cluster = [graph.get_edge_data(node_i, node_j)['weight'] for \\\n",
    "                                   node_j in node_groups[cluster_i] if node_i!=node_j]\n",
    "            _intra_cluster_edges.append(max(w_to_all_in_cluster))\n",
    "\n",
    "        intra_cluster_edges += _intra_cluster_edges\n",
    "\n",
    "    inter_cluster_edge_list.append(np.array(inter_cluster_edges))\n",
    "    intra_cluster_edge_list.append(np.array(intra_cluster_edges))"
   ]
  },
  {
   "cell_type": "code",
   "execution_count": 506,
   "metadata": {},
   "outputs": [],
   "source": [
    "def plot_dependency_graph(ax, _graph, pos_dict, assigments, edge_lcutoff=.3, nodelabels=False):\n",
    "    \"\"\"\n",
    "    Plots the dependency graph using networkx and matplotlib.pyplot.\n",
    "    :params:\n",
    "    :ax: plt.Axes object, populated by this function\n",
    "    :_graph: nx.Graph object, graph to show\n",
    "    :pos_dict: dict, contains positions of graph nodes\n",
    "    :assignments: list, assignment of colors (to match VMD output)\n",
    "    :edge_lcutoff: float, cutoff value for edge weights; everything \n",
    "    below will not be shown\n",
    "    :nodelabels: bool, optional, default: False. for matching clusters with VMD representation\n",
    "    \n",
    "    :returns:\n",
    "    :ax: populated plt.Axes object\n",
    "    :pc: matplotlib.collections.LineCollection of network edges\n",
    "    \"\"\"\n",
    "    # remove invisible paths from graph (decreases SVG file size later)\n",
    "    graph = nx.Graph()\n",
    "    graph.add_nodes_from(_graph.nodes)\n",
    "    for edge in _graph.edges():\n",
    "        w = _graph.get_edge_data(*edge)['weight']\n",
    "        if w > edge_lcutoff:\n",
    "            graph.add_edge(*edge, weight=w)\n",
    "    \n",
    "    weights = np.array(list(nx.get_edge_attributes(graph, 'weight').values()))\n",
    "\n",
    "    nx.draw_networkx_nodes(graph, \n",
    "                           node_size=nodesize,\n",
    "                           pos=pos_dict, \n",
    "                           ax=ax, \n",
    "                           node_color=vmd_colors[assigments])\n",
    "    \n",
    "    if nodelabels:\n",
    "        nx.draw_networkx_labels(graph, pos_dict, font_size=6)\n",
    "\n",
    "    pc = nx.draw_networkx_edges(graph, \n",
    "                                edge_color=weights, \n",
    "                                width=edgewidth, \n",
    "                                pos=pos_dict, \n",
    "                                node_size=nodesize,\n",
    "                                ax=ax, \n",
    "                                edge_cmap=edge_cmap, \n",
    "                                edge_vmax=1, \n",
    "                                edge_vmin=0\n",
    "                               )\n",
    "    \n",
    "    return ax, pc"
   ]
  },
  {
   "cell_type": "code",
   "execution_count": 557,
   "metadata": {},
   "outputs": [
    {
     "data": {
      "image/png": "[encoded data removed]",
      "text/plain": [
       "<Figure size 400x300 with 4 Axes>"
      ]
     },
     "metadata": {
      "needs_background": "light"
     },
     "output_type": "display_data"
    }
   ],
   "source": [
    "# VAMP 1\n",
    "fig = plt.figure(figsize=(4, 3), dpi=100)\n",
    "gs = fig.add_gridspec(65, 140)\n",
    "fullax = fig.add_subplot(gs[:, :])\n",
    "fullax.axis('off')\n",
    "\n",
    "# network plot\n",
    "ax = fig.add_subplot(gs[:, :95])\n",
    "edge_cmap = plt.matplotlib.colors.LinearSegmentedColormap.from_list(\"uwe\", [(*_c, 0), (*_c, 0),\n",
    "                                                                            (*_c, 0.5), (*_c, 1)])\n",
    "ax, pc = plot_dependency_graph(ax, graph_vamp1, pos_dicts[0], matched_assignments[0])\n",
    "ax.axis('off')\n",
    "\n",
    "# colorbar\n",
    "cbar_ax = fig.add_subplot(gs[:, 102:105])\n",
    "cb = fig.colorbar(pc, cax=cbar_ax)\n",
    "\n",
    "# histograms\n",
    "ax = fig.add_subplot(gs[:, 125:])\n",
    "sns.kdeplot(y=inter_cluster_edge_list[0], fill=True, ax=ax, color=col_pal[0], linewidth=2)\n",
    "sns.kdeplot(y=intra_cluster_edge_list[0], fill=True, ax=ax, color=col_pal[1], linewidth=2)\n",
    "\n",
    "\n",
    "ax.set_ylim(0, 1)\n",
    "ax.set_xticks([])\n",
    "ax.set_xlabel('')\n",
    "\n",
    "# comment following line to verify that axes are matching\n",
    "for loc in ['top', 'right', 'bottom']:\n",
    "    ax.spines[loc].set_visible(False)\n",
    "ax.set_yticklabels([]);\n",
    "\n",
    "fig.savefig('syt_vamp1.png', dpi=400)"
   ]
  },
  {
   "cell_type": "code",
   "execution_count": 558,
   "metadata": {},
   "outputs": [
    {
     "data": {
      "image/png": "[encoded data removed]",
      "text/plain": [
       "<Figure size 400x300 with 4 Axes>"
      ]
     },
     "metadata": {
      "needs_background": "light"
     },
     "output_type": "display_data"
    }
   ],
   "source": [
    "# VAMP 2\n",
    "fig = plt.figure(figsize=(4, 3), dpi=100)\n",
    "gs = fig.add_gridspec(65, 140)\n",
    "fullax = fig.add_subplot(gs[:, :])\n",
    "fullax.axis('off')\n",
    "\n",
    "# network plot\n",
    "ax = fig.add_subplot(gs[:, :95])\n",
    "\n",
    "# tune down color-scale for visibility of nodes\n",
    "edge_cmap = plt.matplotlib.colors.LinearSegmentedColormap.from_list(\"uwe\", [(*_c, 0), (*_c, 0),\n",
    "                                                                            (*_c, 0.25), (*_c, 1)])\n",
    "ax, pc = plot_dependency_graph(ax, graph_vamp2, pos_dicts[1], matched_assignments[1])\n",
    "ax.axis('off')\n",
    "\n",
    "# colorbar\n",
    "cbar_ax = fig.add_subplot(gs[:, 102:105])\n",
    "cb = fig.colorbar(pc, cax=cbar_ax)\n",
    "\n",
    "# histograms\n",
    "ax = fig.add_subplot(gs[:, 125:])\n",
    "sns.kdeplot(y=inter_cluster_edge_list[1], fill=True, ax=ax, color=col_pal[0], linewidth=2)\n",
    "sns.kdeplot(y=intra_cluster_edge_list[1], fill=True, ax=ax, color=col_pal[1], linewidth=2)\n",
    "\n",
    "\n",
    "ax.set_ylim(0, 1)\n",
    "ax.set_xticks([])\n",
    "ax.set_xlabel('')\n",
    "\n",
    "# comment following line to verify that axes are matching\n",
    "for loc in ['top', 'right', 'bottom']:\n",
    "    ax.spines[loc].set_visible(False)\n",
    "ax.set_yticklabels([]);\n",
    "\n",
    "fig.savefig('syt_vamp2.png', dpi=400)"
   ]
  },
  {
   "cell_type": "code",
   "execution_count": null,
   "metadata": {},
   "outputs": [],
   "source": [
    "# Please note that results are subject to stochasticity from Fruchterman-Reingold and k-means algorithms."
   ]
  },
  {
   "cell_type": "code",
   "execution_count": 559,
   "metadata": {},
   "outputs": [
    {
     "name": "stdout",
     "output_type": "stream",
     "text": [
      "####### VAMP 1 #####\n",
      "color #0:[108 109 110 111 112 113 114]\n",
      "color #1:[32 33 34 35 36 37 57 58 59 60 94]\n",
      "color #2:[  5  22  23  24  25  26  27  28  29  30  31  61  62  63  64  65  66  67\n",
      "  68  69 121]\n",
      "color #3:[  6   7   8   9  10  11  12  13  14  15  16  17  18  19  20  21  70  71\n",
      "  73 115 116 117 118 119 120]\n",
      "color #4:[ 72  74  75  76  77  78  79  80  81  82 106 107]\n",
      "color #5:[ 44  45  46  47  48  49  50  51  52  53  83  84  85  86 102 103 104 105]\n",
      "color #6:[ 38  39  40  41  42  43  54  55  56  87  88  89  90  91  92  93  95  96\n",
      "  97  98  99 100 101 122]\n",
      "####### VAMP 2 #####\n",
      "color #0:[108 109 110 111 112 113 114]\n",
      "color #1:[30 31 32 33 34 35 36 37 38 39 55 56 57 58 59 60 61 62 63]\n",
      "color #3:[  5   6  12  13  14  15  16  17  18  25  73  75  93  94 119 121]\n",
      "color #4:[ 46  47  48  49  50  76  77  78  79  80  81  82  83  95  96  97  98 103\n",
      " 104 105 106 107 120]\n",
      "color #5:[ 40  41  42  43  44  45  51  52  53  54  84  85  86  87  88  89  90  91\n",
      "  92  99 100 101 102 122]\n",
      "color #6:[20 21 22 23 24 26 27 28 29 64 65 66 67 68 69 70 71]\n",
      "color #7:[  7   8   9  10  11  19  72  74 115 116 117 118]\n"
     ]
    }
   ],
   "source": [
    "# resids for VMD figure coloring\n",
    "for n, (assignm, nc) in enumerate(zip(matched_assignments, n_clusters)):\n",
    "    print(f'####### VAMP {n+1} #####')\n",
    "    for n in range(nc + 5):\n",
    "        whe = np.where(assignm == n)[0]\n",
    "        if len(whe) == 0:\n",
    "            # some color assignments are unique to one of the graphs\n",
    "            continue\n",
    "        print(f'color #{n}:' + str(whe + first_resid))"
   ]
  }
 ],
 "metadata": {
  "kernelspec": {
   "display_name": "Python 3",
   "language": "python",
   "name": "python3"
  },
  "language_info": {
   "codemirror_mode": {
    "name": "ipython",
    "version": 3
   },
   "file_extension": ".py",
   "mimetype": "text/x-python",
   "name": "python",
   "nbconvert_exporter": "python",
   "pygments_lexer": "ipython3",
   "version": "3.8.8"
  }
 },
 "nbformat": 4,
 "nbformat_minor": 2
}
