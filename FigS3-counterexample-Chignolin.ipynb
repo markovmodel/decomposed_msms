{
 "cells": [
  {
   "cell_type": "code",
   "execution_count": 1,
   "metadata": {},
   "outputs": [],
   "source": [
    "import numpy as np\n",
    "import matplotlib.pyplot as plt\n",
    "import itertools\n",
    "from tqdm.notebook import tqdm\n",
    "import networkx as nx\n",
    "import pyemma\n",
    "import mdtraj\n",
    "import pyemma.util.contexts\n",
    "import pickle\n",
    "from pathos.multiprocessing import Pool\n",
    "from contextlib import closing\n",
    "import seaborn as sns"
   ]
  },
  {
   "cell_type": "markdown",
   "metadata": {},
   "source": [
    "## Estimation"
   ]
  },
  {
   "cell_type": "code",
   "execution_count": 2,
   "metadata": {},
   "outputs": [],
   "source": [
    "topfile = '/group/ag_cmb/simulation-data/DESRES-Science2011-FastProteinFolding/DESRES-Trajectory_CLN025-0-protein/CLN025-0-protein/folded.pdb'\n",
    "\n",
    "ref = mdtraj.load_pdb(topfile)\n",
    "\n",
    "_dir = '/group/ag_cmb/simulation-data/DESRES-Science2011-FastProteinFolding/DESRES-Trajectory_CLN025-0-protein/CLN025-0-protein/'\n",
    "\n",
    "# ATTENTION: desres is a single fragmented trajectory. pyemma will concatenate with nested loop\n",
    "trajfiles = [[_dir + 'CLN025-0-protein-{:03d}.dcd'.format(n) for n in range(54)]]"
   ]
  },
  {
   "cell_type": "code",
   "execution_count": 3,
   "metadata": {},
   "outputs": [],
   "source": [
    "first_resid = 1  # truncate n and c-terminal residues\n",
    "system_integers = np.arange(first_resid, ref.top.n_residues - first_resid)"
   ]
  },
  {
   "cell_type": "code",
   "execution_count": 4,
   "metadata": {},
   "outputs": [
    {
     "data": {
      "application/vnd.jupyter.widget-view+json": {
       "model_id": "d6f4b4c12d0a48c0b756c4bdb9b8a2ec",
       "version_major": 2,
       "version_minor": 0
      },
      "text/plain": [
       "  0%|          | 0/8 [00:00<?, ?it/s]"
      ]
     },
     "metadata": {},
     "output_type": "display_data"
    },
    {
     "name": "stderr",
     "output_type": "stream",
     "text": [
      "/storage/mi/thempel/anaconda3/envs/py37_feb21/lib/python3.8/site-packages/mdtraj/geometry/dihedral.py:374: FutureWarning: arrays to stack must be passed as a \"sequence\" type such as list or tuple. Support for non-sequence iterables such as generators is deprecated as of NumPy 1.16 and will raise an error in the future.\n",
      "  indices = np.vstack(x for x in indices if x.size)[id_sort]\n",
      "/storage/mi/thempel/anaconda3/envs/py37_feb21/lib/python3.8/site-packages/pyemma/coordinates/data/featurization/angles.py:211: FutureWarning: arrays to stack must be passed as a \"sequence\" type such as list or tuple. Support for non-sequence iterables such as generators is deprecated as of NumPy 1.16 and will raise an error in the future.\n",
      "  indices = np.vstack(valid.values())\n"
     ]
    }
   ],
   "source": [
    "res_torsions = dict()\n",
    "\n",
    "with pyemma.util.contexts.settings(show_progress_bars=False):\n",
    "    for n in tqdm(system_integers):\n",
    "        f = pyemma.coordinates.featurizer(topfile)\n",
    "\n",
    "        f.add_backbone_torsions(selstr=f'resid {n}', cossin=True)\n",
    "        try:\n",
    "            f.add_sidechain_torsions(selstr=f'resid {n}', cossin=True)\n",
    "        except ValueError:\n",
    "            pass\n",
    "        # make sure it's a list again...\n",
    "        res_torsions[n] = [pyemma.coordinates.load(trajfiles, features=f, stride=5)]"
   ]
  },
  {
   "cell_type": "code",
   "execution_count": 6,
   "metadata": {},
   "outputs": [],
   "source": [
    "# choose lag time for vamp computation (in ns)\n",
    "msmlag = 50"
   ]
  },
  {
   "cell_type": "code",
   "execution_count": 7,
   "metadata": {},
   "outputs": [],
   "source": [
    "# all pairwise combinations of residue indices\n",
    "args = list(itertools.combinations(system_integers, 2))\n",
    "\n",
    "def get_edge_vamp2(n1, n2, stride=1):\n",
    "    \"\"\"\n",
    "    Compute normalized dependency between two feature\n",
    "    vectors using the VAMP2 score.\n",
    "    \n",
    "    :params:\n",
    "    :n1: int, residue index of residue A\n",
    "    :n2: int, residue index of residue B\n",
    "    :stride: int, optional, used in covariance matrix estimation\n",
    "    \n",
    "    :returns:\n",
    "    float, dependency for this link\n",
    "    \"\"\"\n",
    "    with pyemma.util.contexts.settings(show_progress_bars=False):\n",
    "        v1 = pyemma.coordinates.vamp(feature[n1], lag=msmlag, stride=stride)\n",
    "        v2 = pyemma.coordinates.vamp(feature[n2], lag=msmlag, stride=stride)\n",
    "        v12 = pyemma.coordinates.vamp([np.hstack([t1, t2]) for t1, t2 in zip(feature[n1], feature[n2])], lag=msmlag, stride=stride)\n",
    "\n",
    "    s1 = v1.score(score_method='VAMP2')\n",
    "    s2 = v2.score(score_method='VAMP2')\n",
    "    s12 = v12.score(score_method='VAMP2')\n",
    "    \n",
    "    # note that pyemma returns the vamp score in the non-whitened space (+1)\n",
    "    # i.e. we have to subtract 1 from each computed score\n",
    "    d =  (s1 + s2 - 1 - s12) / min(s1 - 1, s2 - 1)\n",
    "        \n",
    "    return d\n",
    "\n",
    "def get_edge_vamp1(n1, n2, stride=1):\n",
    "    \"\"\"\n",
    "    Compute normalized dependency between two feature\n",
    "    vectors using the VAMP1 score.\n",
    "    \n",
    "    :params:\n",
    "    :n1: int, residue index of residue A\n",
    "    :n2: int, residue index of residue B\n",
    "    :stride: int, optional, used in covariance matrix estimation\n",
    "    \n",
    "    :returns:\n",
    "    float, dependency for this link\n",
    "    \"\"\"\n",
    "    with pyemma.util.contexts.settings(show_progress_bars=False):\n",
    "        v1 = pyemma.coordinates.vamp(feature[n1], lag=msmlag, stride=stride)\n",
    "        v2 = pyemma.coordinates.vamp(feature[n2], lag=msmlag, stride=stride)\n",
    "        v12 = pyemma.coordinates.vamp([np.hstack([t1, t2]) for t1, t2 in zip(feature[n1], feature[n2])], lag=msmlag, stride=stride)\n",
    "\n",
    "        s1 = v1.score(score_method='VAMP1')\n",
    "        s2 = v2.score(score_method='VAMP1')\n",
    "        s12 = v12.score(score_method='VAMP1')\n",
    "        \n",
    "        d =  (s1 + s2 - 1 - s12) / min(s1 - 1, s2 - 1)\n",
    "        \n",
    "    return d"
   ]
  },
  {
   "cell_type": "code",
   "execution_count": 8,
   "metadata": {},
   "outputs": [],
   "source": [
    "feature = res_torsions"
   ]
  },
  {
   "cell_type": "code",
   "execution_count": 9,
   "metadata": {
    "scrolled": true
   },
   "outputs": [
    {
     "data": {
      "application/vnd.jupyter.widget-view+json": {
       "model_id": "859915fd18db439ba2cf41c5652f25bf",
       "version_major": 2,
       "version_minor": 0
      },
      "text/plain": [
       "  0%|          | 0/28 [00:00<?, ?it/s]"
      ]
     },
     "metadata": {},
     "output_type": "display_data"
    }
   ],
   "source": [
    "# VAMP-1 graph\n",
    "# initialize networkx graph object\n",
    "graph_vamp1 = nx.Graph()\n",
    "\n",
    "\n",
    "# multiprocessing w/ progress bar\n",
    "pbar = tqdm(total=len(args))\n",
    "pool = Pool(processes=8)\n",
    "with closing(pool):\n",
    "    # compute pairwise dependency on each pair of residues, populate graph edges\n",
    "    res_async = [pool.apply_async(get_edge_vamp1, a, callback=lambda _: pbar.update(1)) for a in args]\n",
    "    [graph_vamp1.add_edge(*a, weight=x.get()) for x, a in zip(res_async, args)]\n",
    "    \n",
    "pbar.close()"
   ]
  },
  {
   "cell_type": "code",
   "execution_count": 10,
   "metadata": {},
   "outputs": [
    {
     "data": {
      "application/vnd.jupyter.widget-view+json": {
       "model_id": "c34cd135220b4241961c9c637837ec92",
       "version_major": 2,
       "version_minor": 0
      },
      "text/plain": [
       "  0%|          | 0/28 [00:00<?, ?it/s]"
      ]
     },
     "metadata": {},
     "output_type": "display_data"
    }
   ],
   "source": [
    "# VAMP-2 graph\n",
    "# initialize networkx graph object\n",
    "graph_vamp2 = nx.Graph()\n",
    "\n",
    "# multiprocessing w/ progress bar\n",
    "pbar = tqdm(total=len(args))\n",
    "pool = Pool(processes=8)\n",
    "with closing(pool):\n",
    "    # compute pairwise dependency on each pair of residues, populate graph edges\n",
    "    res_async = [pool.apply_async(get_edge_vamp2, a, callback=lambda _: pbar.update(1)) for a in args]\n",
    "    [graph_vamp2.add_edge(*a, weight=x.get()) for x, a in zip(res_async, args)]\n",
    "    \n",
    "pbar.close()"
   ]
  },
  {
   "cell_type": "markdown",
   "metadata": {},
   "source": [
    "## Visualization"
   ]
  },
  {
   "cell_type": "code",
   "execution_count": 11,
   "metadata": {},
   "outputs": [],
   "source": [
    "# set node sizes and edge widths\n",
    "nodesize = 20\n",
    "edgewidth = 1\n",
    "\n",
    "# define color for edges\n",
    "_c = (0., 0., 0.)\n",
    "edge_cmap = plt.matplotlib.colors.LinearSegmentedColormap.from_list(\"uwe\", [(*_c, 0), (*_c, 0),\n",
    "                                                                            (*_c, 0.5), (*_c, 1)])"
   ]
  },
  {
   "cell_type": "code",
   "execution_count": 12,
   "metadata": {},
   "outputs": [],
   "source": [
    "# Fruchterman-Reingold (FR) node positioning\n",
    "# please note that FR is stochastic and results might be slightly different\n",
    "# for each execution\n",
    "\n",
    "ks = [.01, 0.012] # FR hyperparameter\n",
    "\n",
    "pos_dicts = []\n",
    "frugold_projections = []\n",
    "for n, graph in enumerate([graph_vamp1, graph_vamp2]):\n",
    "\n",
    "    # use networkx implementation of FR algorithm\n",
    "    pos_dict = nx.spring_layout(graph, k=ks[n], \n",
    "                                iterations=5000, threshold=0.00001)\n",
    "    pos_dicts.append(pos_dict)\n",
    "    frugold_projections.append(np.array([pos_dict[r] for r in system_integers]))"
   ]
  },
  {
   "cell_type": "code",
   "execution_count": 13,
   "metadata": {},
   "outputs": [],
   "source": [
    "# color definitions\n",
    "sns_pal = sns.color_palette('hls', 4)\n",
    "vmd_colors = np.array(sns_pal)\n",
    "col_pal = ['#80aee7ff', '#e68082ff']  # for histograms"
   ]
  },
  {
   "cell_type": "code",
   "execution_count": 14,
   "metadata": {},
   "outputs": [
    {
     "data": {
      "application/vnd.jupyter.widget-view+json": {
       "model_id": "",
       "version_major": 2,
       "version_minor": 0
      },
      "text/plain": [
       "initialize kmeans++ centers:   0%|          | 0/4 [00:00<?, ?it/s]"
      ]
     },
     "metadata": {},
     "output_type": "display_data"
    },
    {
     "data": {
      "application/vnd.jupyter.widget-view+json": {
       "model_id": "",
       "version_major": 2,
       "version_minor": 0
      },
      "text/plain": [
       "kmeans iterations:   0%|          | 0/100 [00:00<?, ?it/s]"
      ]
     },
     "metadata": {},
     "output_type": "display_data"
    },
    {
     "data": {
      "application/vnd.jupyter.widget-view+json": {
       "model_id": "",
       "version_major": 2,
       "version_minor": 0
      },
      "text/plain": [
       "kmeans iterations:   0%|          | 0/100 [00:00<?, ?it/s]"
      ]
     },
     "metadata": {},
     "output_type": "display_data"
    }
   ],
   "source": [
    "# cluster FR projected data with k-means\n",
    "# remember that k-means is stochastic and might produce slightly different \n",
    "# results each for each run. this step further depends on the result of\n",
    "# the FR algorithm, i.e., it might be necessary to adjust hyperparameters\n",
    "\n",
    "# chignolin: no clusters visible\n",
    "n_clusters = [4, 1] # number of nodes for vamp-1 / vamp-2 projections\n",
    "\n",
    "assignments = []\n",
    "cluster_objs = []\n",
    "\n",
    "for n, (k, xy) in enumerate(zip(n_clusters, frugold_projections)):\n",
    "    # cluster in projected space\n",
    "    cl = pyemma.coordinates.cluster_kmeans(xy, k=k, tolerance=1e-7, \n",
    "                                           max_iter=100)\n",
    "    cluster_objs.append(cl)\n",
    "    assignments.append(cl.dtrajs[0])"
   ]
  },
  {
   "cell_type": "code",
   "execution_count": 15,
   "metadata": {},
   "outputs": [],
   "source": [
    "matched_assignments = assignments"
   ]
  },
  {
   "cell_type": "code",
   "execution_count": 16,
   "metadata": {},
   "outputs": [],
   "source": [
    "# to quantify the differences between a) dependencies of\n",
    "# nodes in a cluster and b) dependencies between nodes of different clusters, \n",
    "# each node has to be viewed from its strongest embedding into the network. \n",
    "# \n",
    "# Example: network consisting of 3 nodes [n1, n2, n3]. If dependency scores \n",
    "# between (n1, n2) and (n2, n3) are very high, the network cannot be decomposed\n",
    "# irrespectively of how low the dependency is for (n1, n3).\n",
    "    \n",
    "# This means that the dependency between a single node n and a set of nodes C\n",
    "# should be viewed by taking the max of all edges between n and all nodes of C. \n",
    "\n",
    "intra_cluster_edge_list, inter_cluster_edge_list = [], []\n",
    "for assignments, graph, _n_clusters in zip(matched_assignments, \n",
    "                                           [graph_vamp1, graph_vamp2], \n",
    "                                          n_clusters):\n",
    "        \n",
    "    # group cluster nodes together\n",
    "    node_groups = [np.array(list(graph.nodes))[np.where(assignments == n)[0]] \\\n",
    "                   for n in np.unique(assignments)]\n",
    "\n",
    "    # extract edges within each cluster and between two clusters\n",
    "    inter_cluster_edges = []\n",
    "    intra_cluster_edges = []\n",
    "    \n",
    "    # iterate over all combinations of clusters\n",
    "    # -> extract inter-cluster edges\n",
    "    for cluster_i, cluster_j in itertools.combinations(range(_n_clusters), 2):\n",
    "        \n",
    "        _inter_cluster_edges = []\n",
    "\n",
    "        # max link between (each member of cluster i) and (all members of cluster j)\n",
    "        for node_i in node_groups[cluster_i]:\n",
    "            w_to_all_cluster_j = [graph.get_edge_data(node_i, node_j)['weight'] for \\\n",
    "                                  node_j in node_groups[cluster_j]]\n",
    "            _inter_cluster_edges.append(max(w_to_all_cluster_j))\n",
    "\n",
    "        # max link between (each member of cluster j) and (all members of cluster i)\n",
    "        for node_j in node_groups[cluster_j]:\n",
    "            w_to_all_cluster_i = [graph.get_edge_data(node_i, node_j)['weight'] for \\\n",
    "                                  node_i in node_groups[cluster_i]]\n",
    "            _inter_cluster_edges.append(max(w_to_all_cluster_i))\n",
    "        \n",
    "        inter_cluster_edges += _inter_cluster_edges\n",
    "\n",
    "    # iterate over every cluster\n",
    "    # -> extract intra-cluster edges\n",
    "    for cluster_i in range(_n_clusters):\n",
    "        \n",
    "        _intra_cluster_edges = []\n",
    "        \n",
    "        # max link within a single cluster of nodes, i.e., get max edge between node and \n",
    "        # all other members of the same cluster\n",
    "        for node_i in node_groups[cluster_i]:\n",
    "            w_to_all_in_cluster = [graph.get_edge_data(node_i, node_j)['weight'] for \\\n",
    "                                   node_j in node_groups[cluster_i] if node_i!=node_j]\n",
    "            if len(w_to_all_in_cluster) > 0:\n",
    "                _intra_cluster_edges.append(max(w_to_all_in_cluster))\n",
    "\n",
    "        intra_cluster_edges += _intra_cluster_edges\n",
    "\n",
    "    inter_cluster_edge_list.append(np.array(inter_cluster_edges))\n",
    "    intra_cluster_edge_list.append(np.array(intra_cluster_edges))"
   ]
  },
  {
   "cell_type": "code",
   "execution_count": 17,
   "metadata": {},
   "outputs": [],
   "source": [
    "def plot_dependency_graph(ax, _graph, pos_dict, assigments, edge_lcutoff=.3, nodelabels=False):\n",
    "    \"\"\"\n",
    "    Plots the dependency graph using networkx and matplotlib.pyplot.\n",
    "    :params:\n",
    "    :ax: plt.Axes object, populated by this function\n",
    "    :_graph: nx.Graph object, graph to show\n",
    "    :pos_dict: dict, contains positions of graph nodes\n",
    "    :assignments: list, assignment of colors (to match VMD output)\n",
    "    :edge_lcutoff: float, cutoff value for edge weights; everything \n",
    "    below will not be shown\n",
    "    :nodelabels: bool, optional, default: False. for matching clusters with VMD representation\n",
    "    \n",
    "    :returns:\n",
    "    :ax: populated plt.Axes object\n",
    "    :pc: matplotlib.collections.LineCollection of network edges\n",
    "    \"\"\"\n",
    "    # remove invisible paths from graph (decreases SVG file size later)\n",
    "    graph = nx.Graph()\n",
    "    graph.add_nodes_from(_graph.nodes)\n",
    "    for edge in _graph.edges():\n",
    "        w = _graph.get_edge_data(*edge)['weight']\n",
    "        if w > edge_lcutoff:\n",
    "            graph.add_edge(*edge, weight=w)\n",
    "    \n",
    "    weights = np.array(list(nx.get_edge_attributes(graph, 'weight').values()))\n",
    "\n",
    "    nx.draw_networkx_nodes(graph, \n",
    "                           node_size=nodesize,\n",
    "                           pos=pos_dict, \n",
    "                           ax=ax, \n",
    "                           node_color=vmd_colors[assigments])\n",
    "    \n",
    "    if nodelabels:\n",
    "        nx.draw_networkx_labels(graph, pos_dict, font_size=6)\n",
    "\n",
    "    pc = nx.draw_networkx_edges(graph, \n",
    "                                edge_color=weights, \n",
    "                                width=edgewidth, \n",
    "                                pos=pos_dict, \n",
    "                                node_size=nodesize,\n",
    "                                ax=ax, \n",
    "                                edge_cmap=edge_cmap, \n",
    "                                edge_vmax=1, \n",
    "                                edge_vmin=0\n",
    "                               )\n",
    "    \n",
    "    return ax, pc"
   ]
  },
  {
   "cell_type": "code",
   "execution_count": 18,
   "metadata": {},
   "outputs": [],
   "source": [
    "def plot_(gs, _graph, _pos_dict, _matched_assignment, _inter_cluster_edges, _intra_cluster_edges, ni=0, nf=-1):\n",
    "    fullax = fig.add_subplot(gs[:, ni:nf])\n",
    "    fullax.axis('off')\n",
    "\n",
    "    # network plot\n",
    "    ax = fig.add_subplot(gs[:, ni:ni+95])\n",
    "\n",
    "    ax, pc = plot_dependency_graph(ax, _graph, _pos_dict, _matched_assignment)\n",
    "    ax.axis('off')\n",
    "\n",
    "    # colorbar\n",
    "    cbar_ax = fig.add_subplot(gs[:, ni+102:ni+105])\n",
    "    cb = fig.colorbar(pc, cax=cbar_ax)\n",
    "\n",
    "    # histograms\n",
    "    ax = fig.add_subplot(gs[:, ni+125:nf])\n",
    "    sns.kdeplot(y=_inter_cluster_edges, fill=True, ax=ax, color=col_pal[0], linewidth=2)\n",
    "    sns.kdeplot(y=_intra_cluster_edges, fill=True, ax=ax, color=col_pal[1], linewidth=2)\n",
    "\n",
    "\n",
    "    ax.set_ylim(0, 1)\n",
    "    ax.set_xticks([])\n",
    "    ax.set_xlabel('')\n",
    "\n",
    "    # comment following line to verify that axes are matching\n",
    "    for loc in ['top', 'right', 'bottom']:\n",
    "        ax.spines[loc].set_visible(False)\n",
    "    ax.set_yticklabels([]);\n",
    "    \n",
    "    return fullax"
   ]
  },
  {
   "cell_type": "code",
   "execution_count": 19,
   "metadata": {},
   "outputs": [
    {
     "data": {
      "image/png": "[encoded data removed]",
      "text/plain": [
       "<Figure size 960x360 with 8 Axes>"
      ]
     },
     "metadata": {
      "needs_background": "light"
     },
     "output_type": "display_data"
    }
   ],
   "source": [
    "fig = plt.figure(figsize=(8, 3), dpi=120)\n",
    "gs = fig.add_gridspec(65, 320)\n",
    "\n",
    "ax = plot_(gs, graph_vamp1, pos_dicts[0], matched_assignments[0], inter_cluster_edge_list[0], intra_cluster_edge_list[0],\n",
    "           nf=140)\n",
    "ax.text(0, 1, r'$\\mathbf{(a)}$' + 11*' ' + 'VAMP-1', transform=ax.transAxes)\n",
    "ax = plot_(gs, graph_vamp2, pos_dicts[1], matched_assignments[1], inter_cluster_edge_list[1], intra_cluster_edge_list[1],\n",
    "           ni=180)\n",
    "ax.text(0, 1, r'$\\mathbf{(b)}$' + 11*' ' +'VAMP-2', transform=ax.transAxes)\n",
    "\n",
    "fig.savefig('/tmp/chignolin.pdf', bbox_inches='tight')"
   ]
  },
  {
   "cell_type": "code",
   "execution_count": 20,
   "metadata": {},
   "outputs": [],
   "source": [
    "# Please note that results are subject to stochasticity from Fruchterman-Reingold and k-means algorithms.\n",
    "\n",
    "# VAMP-1 network does not show significant differences between intra-cluster and inter-cluster\n",
    "# dependencies, i.e., no indication that dynamics can be decomposed into subsystems.\n",
    "# VAMP-2 network does not show any clustering at all.\n",
    "# Interpretation: Peptide is too small to express any independent subunits, IMD cannot be applied."
   ]
  }
 ],
 "metadata": {
  "kernelspec": {
   "display_name": "Python 3",
   "language": "python",
   "name": "python3"
  },
  "language_info": {
   "codemirror_mode": {
    "name": "ipython",
    "version": 3
   },
   "file_extension": ".py",
   "mimetype": "text/x-python",
   "name": "python",
   "nbconvert_exporter": "python",
   "pygments_lexer": "ipython3",
   "version": "3.8.8"
  }
 },
 "nbformat": 4,
 "nbformat_minor": 2
}
