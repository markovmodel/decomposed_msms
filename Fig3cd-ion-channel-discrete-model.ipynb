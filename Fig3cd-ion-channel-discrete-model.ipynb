{
 "cells": [
  {
   "cell_type": "code",
   "execution_count": 1,
   "metadata": {},
   "outputs": [],
   "source": [
    "import numpy as np\n",
    "from matplotlib import pyplot as plt\n",
    "import msmtools\n",
    "import scipy.linalg\n",
    "import itertools\n",
    "import pyemma\n",
    "\n",
    "import matplotlib.patches as mpatches\n",
    "import matplotlib.pyplot as plt\n",
    "from tqdm import tqdm_notebook as tqdm\n",
    "\n",
    "from local import Channel, cg_transition_matrix, kchannel_params, dndt"
   ]
  },
  {
   "cell_type": "markdown",
   "metadata": {},
   "source": [
    "## Basic ion channel model\n",
    "\n",
    "$$C1 \\underset{\\beta}{\\overset{4\\alpha}{<=>}} C2  \\underset{2\\beta}{\\overset{3\\alpha}{<=>}} C3 \\underset{3\\beta}{\\overset{2\\alpha}{<=>}} C4 \\underset{4\\beta}{\\overset{\\alpha}{<=>}} O$$"
   ]
  },
  {
   "cell_type": "markdown",
   "metadata": {},
   "source": [
    "## Verify that we can reconstruct matrix for uncoupled systems"
   ]
  },
  {
   "cell_type": "code",
   "execution_count": 2,
   "metadata": {},
   "outputs": [
    {
     "name": "stdout",
     "output_type": "stream",
     "text": [
      "[[0.84 0.15 0.01 0.   0.  ]\n",
      " [0.   0.87 0.12 0.01 0.  ]\n",
      " [0.   0.01 0.91 0.08 0.  ]\n",
      " [0.   0.   0.01 0.95 0.04]\n",
      " [0.   0.   0.   0.02 0.98]]\n"
     ]
    }
   ],
   "source": [
    "# Instantiate an arbitrary channel\n",
    "c_test = Channel(44., 4.)\n",
    "lagtime = 0.001\n",
    "\n",
    "# Generate macrostate transition matrix\n",
    "full_model = c_test.transition_matrix(lagtime)\n",
    "\n",
    "with np.printoptions(precision=2, suppress=True):\n",
    "    print(full_model)"
   ]
  },
  {
   "cell_type": "markdown",
   "metadata": {},
   "source": [
    "### Generate microstate transition matrix and perform mapping"
   ]
  },
  {
   "cell_type": "code",
   "execution_count": 3,
   "metadata": {},
   "outputs": [],
   "source": [
    "# 1) Generate close--open transition matrix\n",
    "T_singlet = c_test.transition_matrix_singlet(lagtime)\n",
    "# 2) Expand into 16x16 corresponding to all combinations of C, O for 4 gates.\n",
    "T_allstates = np.kron(np.kron(np.kron(T_singlet, T_singlet), T_singlet), T_singlet)"
   ]
  },
  {
   "cell_type": "code",
   "execution_count": 4,
   "metadata": {},
   "outputs": [
    {
     "name": "stdout",
     "output_type": "stream",
     "text": [
      "Microstate: 0 Configuration: (0, 0, 0, 0) Macrostate: C1\n",
      "Microstate: 1 Configuration: (0, 0, 0, 1) Macrostate: C2\n",
      "Microstate: 2 Configuration: (0, 0, 1, 0) Macrostate: C2\n",
      "Microstate: 3 Configuration: (0, 0, 1, 1) Macrostate: C3\n",
      "Microstate: 4 Configuration: (0, 1, 0, 0) Macrostate: C2\n",
      "Microstate: 5 Configuration: (0, 1, 0, 1) Macrostate: C3\n",
      "Microstate: 6 Configuration: (0, 1, 1, 0) Macrostate: C3\n",
      "Microstate: 7 Configuration: (0, 1, 1, 1) Macrostate: C4\n",
      "Microstate: 8 Configuration: (1, 0, 0, 0) Macrostate: C2\n",
      "Microstate: 9 Configuration: (1, 0, 0, 1) Macrostate: C3\n",
      "Microstate: 10 Configuration: (1, 0, 1, 0) Macrostate: C3\n",
      "Microstate: 11 Configuration: (1, 0, 1, 1) Macrostate: C4\n",
      "Microstate: 12 Configuration: (1, 1, 0, 0) Macrostate: C3\n",
      "Microstate: 13 Configuration: (1, 1, 0, 1) Macrostate: C4\n",
      "Microstate: 14 Configuration: (1, 1, 1, 0) Macrostate: C4\n",
      "Microstate: 15 Configuration: (1, 1, 1, 1) Macrostate: O\n"
     ]
    }
   ],
   "source": [
    "# Construct mapping from 16 microstates to the 5 macrostates\n",
    "chi = np.zeros((16, 5))\n",
    "for microstate_number, microstate_config in enumerate(itertools.product(*[range(2) for _ in range(4)])):\n",
    "    print('Microstate:', microstate_number, \n",
    "          'Configuration:', microstate_config, \n",
    "          'Macrostate:', c_test.index2state(sum(microstate_config)))\n",
    "    chi[microstate_number, sum(microstate_config)] = 1"
   ]
  },
  {
   "cell_type": "code",
   "execution_count": 5,
   "metadata": {},
   "outputs": [],
   "source": [
    "# Map microstate transitions to macrostate\n",
    "cg_from_full = cg_transition_matrix(T_allstates, chi)"
   ]
  },
  {
   "cell_type": "code",
   "execution_count": 6,
   "metadata": {},
   "outputs": [
    {
     "name": "stdout",
     "output_type": "stream",
     "text": [
      "Macro from Micro:\n",
      "[[0.84 0.15 0.01 0.   0.  ]\n",
      " [0.   0.87 0.12 0.01 0.  ]\n",
      " [0.   0.01 0.91 0.08 0.  ]\n",
      " [0.   0.   0.01 0.95 0.04]\n",
      " [0.   0.   0.   0.02 0.98]] \n",
      "\n",
      "Original:\n",
      "[[0.84 0.15 0.01 0.   0.  ]\n",
      " [0.   0.87 0.12 0.01 0.  ]\n",
      " [0.   0.01 0.91 0.08 0.  ]\n",
      " [0.   0.   0.01 0.95 0.04]\n",
      " [0.   0.   0.   0.02 0.98]]\n"
     ]
    }
   ],
   "source": [
    "with np.printoptions(precision=2, suppress=True):\n",
    "    print(\"Macro from Micro:\")\n",
    "    print(cg_from_full, '\\n')\n",
    "    print(\"Original:\")\n",
    "    print(full_model)"
   ]
  },
  {
   "cell_type": "code",
   "execution_count": 7,
   "metadata": {},
   "outputs": [
    {
     "name": "stdout",
     "output_type": "stream",
     "text": [
      "Matrices match!\n"
     ]
    }
   ],
   "source": [
    "# Verify that the the transition matrices match up\n",
    "if(np.allclose(cg_from_full, full_model)):\n",
    "    print(\"Matrices match!\")\n",
    "else:\n",
    "    raise AssertionError(\"Matrices do not match!\")"
   ]
  },
  {
   "cell_type": "markdown",
   "metadata": {},
   "source": [
    "## Hodgkin-Huxley Potassium Ion Channel Example"
   ]
  },
  {
   "cell_type": "code",
   "execution_count": 8,
   "metadata": {},
   "outputs": [],
   "source": [
    "from scipy.integrate import odeint"
   ]
  },
  {
   "cell_type": "code",
   "execution_count": 9,
   "metadata": {},
   "outputs": [],
   "source": [
    "E_k = -75.\n",
    "g_k = 24 #mmho/cm^2\n",
    "\n",
    "V_clamp = 63"
   ]
  },
  {
   "cell_type": "code",
   "execution_count": 10,
   "metadata": {},
   "outputs": [],
   "source": [
    "dt = 0.1\n",
    "T = 15\n",
    "time = np.arange(0, T, dt)\n",
    "\n",
    "# initial condition\n",
    "n_0 = 0\n",
    "\n",
    "# Other parameters of the ODE\n",
    "params = (V_clamp,)\n",
    "\n",
    "ode_solution = odeint(dndt, n_0, time, params)"
   ]
  },
  {
   "cell_type": "code",
   "execution_count": 11,
   "metadata": {},
   "outputs": [
    {
     "data": {
      "text/plain": [
       "[<matplotlib.lines.Line2D at 0x7f770083c6d8>]"
      ]
     },
     "execution_count": 11,
     "metadata": {},
     "output_type": "execute_result"
    },
    {
     "data": {
      "image/png": "[encoded data removed]",
      "text/plain": [
       "<Figure size 432x288 with 1 Axes>"
      ]
     },
     "metadata": {
      "needs_background": "light"
     },
     "output_type": "display_data"
    }
   ],
   "source": [
    "plt.plot(time, g_k*(ode_solution**4), 'k')"
   ]
  },
  {
   "cell_type": "code",
   "execution_count": 12,
   "metadata": {},
   "outputs": [
    {
     "name": "stderr",
     "output_type": "stream",
     "text": [
      "/home/mi/thempel/Dokumente/Papers/2019-cecam-msm/notebooks/local.py:59: RuntimeWarning: invalid value encountered in true_divide\n",
      "  alpha = (0.01*(10.-Vm))/(np.exp((10.-Vm)/10.)-1)\n"
     ]
    },
    {
     "data": {
      "text/plain": [
       "<matplotlib.lines.Line2D at 0x7f77007c2e48>"
      ]
     },
     "execution_count": 12,
     "metadata": {},
     "output_type": "execute_result"
    },
    {
     "data": {
      "image/png": "[encoded data removed]",
      "text/plain": [
       "<Figure size 432x288 with 1 Axes>"
      ]
     },
     "metadata": {
      "needs_background": "light"
     },
     "output_type": "display_data"
    }
   ],
   "source": [
    "# Plot the steady state open occupancy\n",
    "vs = np.arange(-100, 100)\n",
    "plt.plot(vs, kchannel_params(vs)[2]**4)\n",
    "plt.axvline(V_clamp, color='r')"
   ]
  },
  {
   "cell_type": "markdown",
   "metadata": {},
   "source": [
    "## model generation & convergence analysis"
   ]
  },
  {
   "cell_type": "code",
   "execution_count": 13,
   "metadata": {},
   "outputs": [],
   "source": [
    "# Construct a microstate trajectory\n",
    "msmlag = 0.0001 # in seconds\n",
    "tot_T = 100000 # Steps\n",
    "\n",
    "alpha, beta, ss, tau = kchannel_params(V_clamp)\n",
    "c = Channel(alpha*1000, beta*1000)"
   ]
  },
  {
   "cell_type": "code",
   "execution_count": 14,
   "metadata": {},
   "outputs": [
    {
     "name": "stdout",
     "output_type": "stream",
     "text": [
      "Macrostate Transition Matrix:\n",
      "[[0.8086 0.1764 0.0144 0.0005 0.    ]\n",
      " [0.0047 0.8488 0.1388 0.0076 0.0001]\n",
      " [0.     0.0099 0.8904 0.097  0.0026]\n",
      " [0.     0.0001 0.0155 0.9335 0.0509]\n",
      " [0.     0.     0.0002 0.0217 0.9781]] \n",
      "\n",
      "single sub-system transition matrix:\n",
      "[[0.9483 0.0517]\n",
      " [0.0055 0.9945]]\n"
     ]
    }
   ],
   "source": [
    "Tm = c.transition_matrix(msmlag)\n",
    "Tm_singlet = c.transition_matrix_singlet(msmlag)\n",
    "\n",
    "with np.printoptions(precision=4, suppress=True):\n",
    "    print(\"Macrostate Transition Matrix:\")\n",
    "    print(Tm, '\\n')\n",
    "    print(\"single sub-system transition matrix:\")\n",
    "    print(Tm_singlet)"
   ]
  },
  {
   "cell_type": "code",
   "execution_count": 15,
   "metadata": {},
   "outputs": [],
   "source": [
    "# generate a trajectory in empirical state space \n",
    "traj = msmtools.generation.generate_traj(Tm, tot_T)"
   ]
  },
  {
   "cell_type": "code",
   "execution_count": 16,
   "metadata": {},
   "outputs": [
    {
     "data": {
      "text/plain": [
       "True"
      ]
     },
     "execution_count": 16,
     "metadata": {},
     "output_type": "execute_result"
    }
   ],
   "source": [
    "# is it connected?\n",
    "# in rare cases, tot_T not large enough to sample all 5 states reversibly\n",
    "msmtools.estimation.is_connected(msmtools.estimation.count_matrix(traj, 1, sparse_return=False))"
   ]
  },
  {
   "cell_type": "code",
   "execution_count": 17,
   "metadata": {},
   "outputs": [],
   "source": [
    "# generate from sub-system transition matrix (single gate)\n",
    "singlet_traj = msmtools.generation.generate_traj(Tm_singlet, tot_T)"
   ]
  },
  {
   "cell_type": "code",
   "execution_count": 18,
   "metadata": {},
   "outputs": [
    {
     "name": "stdout",
     "output_type": "stream",
     "text": [
      "Empirical P_open: 0.67777\n",
      "SS from eigendecomposition: 0.6664516597482566\n",
      "from independent sub-systems:  0.6664516597482637\n"
     ]
    }
   ],
   "source": [
    "# Validate that the steady state open probability is as we expect\n",
    "P_open = np.count_nonzero(traj == 4) / tot_T\n",
    "print('Empirical P_open:', P_open)\n",
    "print('SS from eigendecomposition:', msmtools.analysis.stationary_distribution(Tm)[4])\n",
    "print('from independent sub-systems: ', \n",
    "      msmtools.analysis.stationary_distribution(Tm_singlet)[1]**4)"
   ]
  },
  {
   "cell_type": "markdown",
   "metadata": {},
   "source": [
    "## dMSM vs. MSM comparison\n",
    "### estimate sampling and convergence"
   ]
  },
  {
   "cell_type": "code",
   "execution_count": 19,
   "metadata": {},
   "outputs": [],
   "source": [
    "ntrials = 10  # repeat for different realizations to assess error\n",
    "npoints = 40 # number of points on sampling axis\n",
    "min_sampling_log = 2 # start conducting relaxation experiment here\n",
    "\n",
    "p0 = [1, 0, 0, 0, 0] # prepare in closed state\n",
    "observable = [0, 0, 0, 0, 1] # K conductance"
   ]
  },
  {
   "cell_type": "code",
   "execution_count": 20,
   "metadata": {},
   "outputs": [
    {
     "data": {
      "application/vnd.jupyter.widget-view+json": {
       "model_id": "b26dbabf4d364865af6703fc90797d43",
       "version_major": 2,
       "version_minor": 0
      },
      "text/plain": [
       "HBox(children=(IntProgress(value=0, max=10), HTML(value='')))"
      ]
     },
     "metadata": {},
     "output_type": "display_data"
    },
    {
     "name": "stderr",
     "output_type": "stream",
     "text": [
      "/storage/mi/thempel/anaconda3/envs/py37_oct19/lib/python3.7/site-packages/msmtools/analysis/dense/decomposition.py:540: ImaginaryEigenValueWarning: Using eigenvalues with non-zero imaginary part\n",
      "  warnings.warn('Using eigenvalues with non-zero imaginary part', ImaginaryEigenValueWarning)\n"
     ]
    },
    {
     "name": "stdout",
     "output_type": "stream",
     "text": [
      "\n"
     ]
    }
   ],
   "source": [
    "sampling_arr_full = np.zeros((Tm.shape[0]-1+2, ntrials, npoints)) + np.NaN  # classical MSM\n",
    "sampling_arr_dec = sampling_arr_full.copy() # dMSM\n",
    "\n",
    "relaxation_arr_full = np.zeros((150, ntrials, npoints)) + np.NaN\n",
    "relaxation_arr_dec = relaxation_arr_full.copy()\n",
    "\n",
    "# conduct `ntrials` times the same experiment\n",
    "for trial in tqdm(range(ntrials)):\n",
    "    traj = msmtools.generation.generate_traj(Tm, tot_T)\n",
    "\n",
    "    # when using dMSMs, we'd have a full channel in the simulation box, i.e. four \n",
    "    # gates that we extract trajectories of.\n",
    "    # cannot disassemble above `traj` as information about single channels got\n",
    "    # lost during empirical state coarse graining\n",
    "    \n",
    "    singlet_trajs = msmtools.generation.generate_trajs(Tm_singlet, 4, tot_T) \n",
    "    \n",
    "    for n_end, end in enumerate(np.logspace(min_sampling_log, len(str(tot_T)) -1, npoints)):\n",
    "        \n",
    "        # in empirical state space\n",
    "        ccmat = msmtools.estimation.connected_cmatrix(\n",
    "            msmtools.estimation.count_matrix(traj[:int(end)], 1, sparse_return=False))\n",
    "\n",
    "        sampling_arr_full[0, trial, n_end] = msmlag * 1000 * end  # unit: ms\n",
    "        sampling_arr_full[1, trial, n_end] = ccmat.shape[0] / 5\n",
    "        \n",
    "        if ccmat.shape[0] > 1:\n",
    "            tmat = msmtools.estimation.tmatrix(ccmat)\n",
    "\n",
    "            sampling_arr_full[2:2+tmat.shape[0]-1, trial, n_end] = msmtools.analysis.timescales(tmat)[1:]\n",
    "\n",
    "            if tmat.shape[0] == 5:\n",
    "                msm = pyemma.msm.markov_model(tmat, dt_model='0.1 ms')\n",
    "                times, rel = msm.relaxation(p0, observable, maxtime=15)\n",
    "                relaxation_arr_full[:, trial, n_end] = rel\n",
    "\n",
    "        ccmat, tmat = None, None\n",
    "        singlet_ccmats = [msmtools.estimation.connected_cmatrix(\n",
    "            msmtools.estimation.count_matrix(singlet_traj[:int(end)], 1, sparse_return=False))\n",
    "                           for singlet_traj in singlet_trajs]\n",
    "\n",
    "        sampling_arr_dec[0, trial, n_end] = msmlag * 1000 * end  # unit: ms\n",
    "        sampling_arr_dec[1, trial, n_end] = np.mean([ccmat.shape[0] / 2 for ccmat in singlet_ccmats])\n",
    "\n",
    "        if all([ccmat.shape[0] > 1 for ccmat in singlet_ccmats]): # exclude rare-sampling case that only visited a single state (triggers estimation error)\n",
    "            singlet_tmats = [msmtools.estimation.tmatrix(ccmat) for ccmat in singlet_ccmats] # subsystem tmatrices\n",
    "            tmat_full_uncg = np.kron(np.kron(np.kron(singlet_tmats[0], singlet_tmats[1]), singlet_tmats[2]), singlet_tmats[3])\n",
    "            tmat_full = cg_transition_matrix(tmat_full_uncg, chi)  \n",
    "            \n",
    "    \n",
    "            sampling_arr_dec[2:2+tmat_full.shape[0]-1, trial, n_end] = msmtools.analysis.timescales(tmat_full)[1:]\n",
    "            \n",
    "            # tmat_full is fully connected\n",
    "            msm = pyemma.msm.markov_model(tmat_full, dt_model='0.1 ms')\n",
    "            times, rel = msm.relaxation(p0, observable, maxtime=15)\n",
    "            relaxation_arr_dec[:, trial, n_end] = rel            \n",
    "\n",
    "# occasional errors due to finite sampling can be ignored -> NaNs in output arrary"
   ]
  },
  {
   "cell_type": "code",
   "execution_count": 21,
   "metadata": {},
   "outputs": [
    {
     "name": "stdout",
     "output_type": "stream",
     "text": [
      "normalization factor: 24\n"
     ]
    }
   ],
   "source": [
    "# since our observable is not normed to be a conductance, we have to\n",
    "# multiply by a constant factor\n",
    "# derive from relaxation that uses most data\n",
    "normalization_factor =  g_k*(ode_solution**4)[-1] / relaxation_arr_dec[-1, :, -1].mean()\n",
    "print(f\"normalization factor: {np.round(normalization_factor, 0)[0].astype(int)}\")"
   ]
  },
  {
   "cell_type": "markdown",
   "metadata": {},
   "source": [
    "### plot convergence and relaxation experiment"
   ]
  },
  {
   "cell_type": "code",
   "execution_count": 22,
   "metadata": {},
   "outputs": [],
   "source": [
    "plt.matplotlib.rcParams['axes.titlesize'] = 12\n",
    "plt.matplotlib.rcParams['axes.labelsize'] = 20\n",
    "plt.matplotlib.rcParams['legend.fontsize'] = 11\n",
    "plt.matplotlib.rcParams['xtick.labelsize'] = 11\n",
    "plt.matplotlib.rcParams['ytick.labelsize'] = 11\n",
    "plt.matplotlib.rcParams['xtick.minor.pad'] = 2\n",
    "plt.matplotlib.rcParams['xtick.major.pad'] = 3\n",
    "plt.matplotlib.rcParams['ytick.minor.pad'] = 2\n",
    "plt.matplotlib.rcParams['ytick.major.pad'] = 3\n",
    "plt.matplotlib.rcParams['axes.labelpad'] = 1\n",
    "plt.matplotlib.rcParams['axes.labelsize'] = 11\n",
    "from matplotlib import rc\n",
    "rc('text', usetex=False)"
   ]
  },
  {
   "cell_type": "code",
   "execution_count": 23,
   "metadata": {},
   "outputs": [],
   "source": [
    "def plot_segmented(x, y, cmap, ax=None, norm=None, lw=None, show_cbar=False, **kwargs):\n",
    "    if ax is None:\n",
    "        fig, ax =  plt.subplots()\n",
    "    if norm is None:\n",
    "        norm = plt.matplotlib.colors.LogNorm(x.min(), x.max())\n",
    "    points = np.array([x, y]).T.reshape(-1, 1, 2)\n",
    "    segments = np.concatenate([points[:-1], points[1:]], axis=1)\n",
    "    #norm = plt.Normalize(x.min(), x.max())\n",
    "    \n",
    "    \n",
    "    lc = plt.matplotlib.collections.LineCollection(segments, cmap=cmap, norm=norm, **kwargs)\n",
    "    lc.set_array(x)\n",
    "    if lw is not None:\n",
    "        lc.set_linewidth(lw)\n",
    "\n",
    "    line = ax.add_collection(lc)\n",
    "    if show_cbar:\n",
    "        ax.get_figure().colorbar(line, ax=ax)\n",
    "    return ax"
   ]
  },
  {
   "cell_type": "code",
   "execution_count": 24,
   "metadata": {},
   "outputs": [],
   "source": [
    "lw = 2.5\n",
    "ms = 8\n",
    "alpha = .8\n",
    "vspanwidthpercentage = 0.06\n",
    "reduce_max_conductance = 1.  # percentage of max_conductance to scale ylim with\n",
    "dashes = (5, 5) #(length, spacing)\n",
    "example_relaxation_curve_indices = [13, 26, 39]\n",
    "\n",
    "its_ref = msmtools.analysis.timescales(Tm)\n",
    "sampling_time_ms = sampling_arr_full[0, 0, :]\n",
    "n_lengths = len(sampling_time_ms)\n",
    "\n",
    "cmap = plt.matplotlib.cm.viridis_r\n",
    "norm = plt.matplotlib.colors.LogNorm(sampling_time_ms.min(), sampling_time_ms.max())\n",
    "\n",
    "cols = cmap(norm(sampling_time_ms))\n",
    "plot_colorscaled = False"
   ]
  },
  {
   "cell_type": "code",
   "execution_count": 25,
   "metadata": {},
   "outputs": [
    {
     "data": {
      "image/png": "[encoded data removed]",
      "text/plain": [
       "<Figure size 288x367.2 with 11 Axes>"
      ]
     },
     "metadata": {
      "needs_background": "light"
     },
     "output_type": "display_data"
    }
   ],
   "source": [
    "\n",
    "# set up axes\n",
    "fig = plt.figure(figsize=(4, 5.1))\n",
    "gs = fig.add_gridspec(6, 2, height_ratios=(1, 1, 1, 1.15, 1, 1), wspace=.1, hspace=.0)\n",
    "ax_top = np.array([[fig.add_subplot(gs[row, col]) for col in range(2)] for row in range(3)])\n",
    "ax_placeholder = fig.add_subplot(gs[3, :])  # space holder between upper and other axes\n",
    "ax_placeholder.axis('off')\n",
    "ax_mid = [fig.add_subplot(gs[4, 0]), fig.add_subplot(gs[4, 1])]\n",
    "ax_bottom = [fig.add_subplot(gs[5, n]) for n in range(2)]\n",
    "\n",
    "\n",
    "for trial in range(ntrials):\n",
    "    # relaxation plot: subsample to make plot more clear\n",
    "    for n, index in enumerate(example_relaxation_curve_indices):\n",
    "        label = f'{int(sampling_time_ms[index])}ms'\n",
    "        ax_top[n, 0].plot(times, \n",
    "                       relaxation_arr_dec[:, trial, index]*normalization_factor, \n",
    "                       lw=lw, c=cols[index] if plot_colorscaled else 'k')\n",
    "        \n",
    "        ax_top[n, 1].plot(times, \n",
    "                       relaxation_arr_full[:, trial, index]*normalization_factor, \n",
    "                       lw=lw, c=cols[index] if plot_colorscaled else 'k')\n",
    "        for _ax in ax_top[n]: _ax.text(8, 2, label)\n",
    "    \n",
    "    # implied timescales\n",
    "    for its_n in [0, 3]:\n",
    "        if plot_colorscaled:\n",
    "            plot_segmented(sampling_arr_dec[0, trial], sampling_arr_dec[its_n + 2, trial], cmap, norm=norm, ax=ax_bottom[0], lw=lw, alpha=alpha)\n",
    "            plot_segmented(sampling_arr_full[0, trial], sampling_arr_full[its_n + 2, trial],cmap, norm=norm, ax=ax_bottom[1], lw=lw, alpha=alpha)\n",
    "        else:\n",
    "            ax_bottom[0].plot(sampling_arr_dec[0, trial], sampling_arr_dec[its_n + 2, trial], lw=lw, c='k', alpha=alpha)\n",
    "            ax_bottom[1].plot(sampling_arr_full[0, trial], sampling_arr_full[its_n + 2, trial], lw=lw, c='k', alpha=alpha)\n",
    "        \n",
    "# connectivity\n",
    "if plot_colorscaled:\n",
    "    plot_segmented(sampling_arr_full[0, 0], (sampling_arr_full[1, :] == 1).astype(float).mean(axis=0), cmap, ax=ax_mid[1], norm=norm, lw=lw, alpha=alpha)\n",
    "    plot_segmented(sampling_arr_dec[0, 0], (sampling_arr_dec[1, :] == 1).astype(float).mean(axis=0), cmap, ax=ax_mid[0], norm=norm, lw=lw, alpha=alpha)\n",
    "else:\n",
    "    ax_mid[1].plot(sampling_arr_full[0, 0], (sampling_arr_full[1, :] == 1).astype(float).mean(axis=0), lw=lw, c='k', alpha=alpha)\n",
    "    ax_mid[0].plot(sampling_arr_dec[0, 0], (sampling_arr_dec[1, :] == 1).astype(float).mean(axis=0), lw=lw, c='k', alpha=alpha)\n",
    "    \n",
    "# set labels\n",
    "for _ax in [ax_top[0, 0], ax_mid[0]]:\n",
    "    _ax.set_title('dMSM')\n",
    "for _ax in [ax_top[0, 1], ax_mid[1]]:\n",
    "    _ax.set_title('classical MSM')\n",
    "ax_top[1, 0].set_ylabel('conductance\\n' + r'(m S/cm${}^2$)', va='bottom')\n",
    "ax_mid[0].set_ylabel('% con-\\nnected')\n",
    "ax_bottom[0].set_ylabel('time\\nscales\\n(ms)')\n",
    "#ax_bottom[0].set_ylabel('its/ms')\n",
    "\n",
    "# sharex = True for connectivity and its plots\n",
    "for _ax in np.concatenate([ax_bottom, ax_mid]):\n",
    "    _ax.semilogx()\n",
    "    _ax.set_xlim(0.9*sampling_arr_full[0, 0, 0], \n",
    "                 1.2*sampling_arr_full[0, 0, -1])\n",
    "\n",
    "# relaxation plot: reference, labels, sharey\n",
    "relax_ylabels = [0, 15]\n",
    "ymax_relax = reduce_max_conductance * max(relaxation_arr_dec[-1, :, :][np.isfinite(relaxation_arr_dec[-1, :, :])].max(), relaxation_arr_full[-1, :, :][np.isfinite(relaxation_arr_full[-1, :, :])].max()) * normalization_factor\n",
    "for _nax, _ax in enumerate(ax_top[2]):\n",
    "    _ax.plot(time, g_k*(ode_solution**4), 'r', linestyle='--', dashes=dashes, #label='reference' if _nax == 0 else None, \n",
    "             lw=lw, zorder=100)\n",
    "    _ax.set_xticks(np.arange(0, 16, 4))\n",
    "    _ax.set_xlabel('relaxation t (ms)')\n",
    "    _ax.set_ylim(0, \n",
    "                 ymax_relax)\n",
    "    if _nax == 1:\n",
    "        _ax.set_yticklabels([])\n",
    "    else:\n",
    "        _ax.set_yticks(relax_ylabels)\n",
    "\n",
    "for _nax, _ax in enumerate(ax_top[0].tolist() + ax_top[1].tolist()):\n",
    "    _ax.plot(time, g_k*(ode_solution**4), 'r', linestyle='--', dashes=dashes, #label='reference' if _nax == 0 else None, \n",
    "             lw=lw, zorder=100)\n",
    "    _ax.set_xticks(np.arange(0, 16, 4))\n",
    "    _ax.set_xlabel('relaxation t (ms)')\n",
    "    _ax.set_ylim(0, ymax_relax)\n",
    "    if _nax % 2 == 1:             \n",
    "        _ax.set_yticklabels([])\n",
    "    else:\n",
    "        _ax.set_yticks(relax_ylabels)\n",
    "\n",
    "\n",
    "# connectivity plot: reference, xlabels, ylim\n",
    "for _nax, _ax in enumerate(ax_mid):\n",
    "    _ax.plot(sampling_arr_dec[0, trial], [1 for _ in sampling_arr_dec[0, trial]], 'r', linestyle='--', dashes=dashes,\n",
    "             lw=lw, zorder=100)\n",
    "    _ax.set_xlabel('')\n",
    "    _ax.set_xticks([])\n",
    "    _ax.set_ylim(-0.1, 1.1)\n",
    "    if _nax == 1:\n",
    "        _ax.set_yticklabels([])\n",
    "    \n",
    "# its plots: reference, xlabels, ylim\n",
    "for _nax, _ax in enumerate(ax_bottom):\n",
    "    _ax.set_xlabel(f'sampling t (ms)')\n",
    "    _ax.set_ylim(0, 25)\n",
    "    _ax.set_xticks(sampling_time_ms[example_relaxation_curve_indices])\n",
    "    _ax.plot([sampling_arr_full[0, 0, 0], sampling_arr_full[0, 0, -1]], [its_ref[1], its_ref[1]],\n",
    "                    lw=lw, linestyle='--', zorder=100, color='r', dashes=dashes)\n",
    "    \n",
    "    _ax.plot([sampling_arr_full[0, 0, 0], sampling_arr_full[0, 0, -1]], [its_ref[4], its_ref[4]],\n",
    "                        lw=lw, linestyle='--', zorder=100, color='r', dashes=dashes)\n",
    "    if _nax == 1:\n",
    "        _ax.set_yticklabels([])\n",
    "        _ax.set_yticks([])\n",
    "\n",
    "fig.align_ylabels([ax_top[1, 0], ax_mid[0], ax_bottom[0]])"
   ]
  },
  {
   "cell_type": "markdown",
   "metadata": {},
   "source": [
    "## decomposed MSM example\n",
    "Here we show at example how to compute a full MSM from submodels and to access full system experimental observables."
   ]
  },
  {
   "cell_type": "code",
   "execution_count": 26,
   "metadata": {},
   "outputs": [
    {
     "name": "stdout",
     "output_type": "stream",
     "text": [
      "using 750.0 ms sampling time\n"
     ]
    }
   ],
   "source": [
    "end = 7500\n",
    "print(f'using {end * msmlag * 1000} ms sampling time')"
   ]
  },
  {
   "cell_type": "code",
   "execution_count": 27,
   "metadata": {},
   "outputs": [
    {
     "name": "stdout",
     "output_type": "stream",
     "text": [
      "100.0 % connected\n"
     ]
    }
   ],
   "source": [
    "# subsystem count matrices\n",
    "singlet_ccmats = [msmtools.estimation.connected_cmatrix(\n",
    "    msmtools.estimation.count_matrix(singlet_traj[:int(end)], 1, sparse_return=False))\n",
    "                   for singlet_traj in singlet_trajs]\n",
    "print(f'{100*np.mean([ccmat.shape[0] / 2 for ccmat in singlet_ccmats])} % connected')\n",
    "\n",
    "# subsystem transition matrices\n",
    "singlet_tmats = [msmtools.estimation.tmatrix(ccmat) for ccmat in singlet_ccmats]       \n",
    "\n",
    "# full system transition matrix on all 16 combinatorial states\n",
    "tmat_full_uncg = np.kron(np.kron(np.kron(singlet_tmats[0], singlet_tmats[1]), singlet_tmats[2]), singlet_tmats[3])\n",
    "\n",
    "# full system transition matrix in empirical state formulation\n",
    "tmat_full = cg_transition_matrix(tmat_full_uncg, chi) "
   ]
  },
  {
   "cell_type": "code",
   "execution_count": 28,
   "metadata": {},
   "outputs": [],
   "source": [
    "# tmat_full is fully connected\n",
    "msm = pyemma.msm.markov_model(tmat_full, dt_model='0.1 ms')\n",
    "\n",
    "# relaxation experiment (to reproduce electropysiology)\n",
    "times, rel = msm.relaxation(p0, observable, maxtime=15)\n",
    "assert np.all(times == time)"
   ]
  },
  {
   "cell_type": "code",
   "execution_count": 29,
   "metadata": {},
   "outputs": [
    {
     "data": {
      "text/plain": [
       "<matplotlib.legend.Legend at 0x7f76cffa9358>"
      ]
     },
     "execution_count": 29,
     "metadata": {},
     "output_type": "execute_result"
    },
    {
     "data": {
      "image/png": "[encoded data removed]",
      "text/plain": [
       "<Figure size 432x288 with 2 Axes>"
      ]
     },
     "metadata": {
      "needs_background": "light"
     },
     "output_type": "display_data"
    }
   ],
   "source": [
    "fig, ax = plt.subplots()\n",
    "\n",
    "ax.plot(times, rel, 'k', linewidth=1, label='MSM')\n",
    "tax = ax.twinx()\n",
    "tax.plot(time, g_k*(ode_solution**4), 'r:', label='exp')\n",
    "ax.set_ylabel('conductance (dMSM)')\n",
    "tax.set_ylabel('conductance (Exp)')\n",
    "ax.set_xlabel('time / ms')\n",
    "fig.legend()\n",
    "\n",
    "# this plot does not include scaling of relaxation observable to conductance as above"
   ]
  }
 ],
 "metadata": {
  "kernelspec": {
   "display_name": "Python 3",
   "language": "python",
   "name": "python3"
  },
  "language_info": {
   "codemirror_mode": {
    "name": "ipython",
    "version": 3
   },
   "file_extension": ".py",
   "mimetype": "text/x-python",
   "name": "python",
   "nbconvert_exporter": "python",
   "pygments_lexer": "ipython3",
   "version": "3.7.3"
  }
 },
 "nbformat": 4,
 "nbformat_minor": 2
}
